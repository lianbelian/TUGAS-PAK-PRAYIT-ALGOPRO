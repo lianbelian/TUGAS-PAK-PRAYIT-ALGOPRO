{
  "nbformat": 4,
  "nbformat_minor": 0,
  "metadata": {
    "colab": {
      "provenance": [],
      "authorship_tag": "ABX9TyPLDA9Ui7TMcR1lrXz+/DSR",
      "include_colab_link": true
    },
    "kernelspec": {
      "name": "python3",
      "display_name": "Python 3"
    },
    "language_info": {
      "name": "python"
    }
  },
  "cells": [
    {
      "cell_type": "markdown",
      "metadata": {
        "id": "view-in-github",
        "colab_type": "text"
      },
      "source": [
        "<a href=\"https://colab.research.google.com/github/lianbelian/TUGAS-PAK-PRAYIT-ALGOPRO/blob/main/praktikum%203.ipynb\" target=\"_parent\"><img src=\"https://colab.research.google.com/assets/colab-badge.svg\" alt=\"Open In Colab\"/></a>"
      ]
    },
    {
      "cell_type": "markdown",
      "source": [
        "If Sederhana"
      ],
      "metadata": {
        "id": "lLcSMwxDKKj9"
      }
    },
    {
      "cell_type": "code",
      "source": [
        "nilai = int(input(\"masukkan nilai ujian = \"))\n",
        "if nilai >= 60:\n",
        "    print(\"ANDA LULUS\")"
      ],
      "metadata": {
        "id": "FXu3hFbCKPng",
        "outputId": "80a72c53-9410-4ee0-efcc-48a498595d30",
        "colab": {
          "base_uri": "https://localhost:8080/"
        }
      },
      "execution_count": null,
      "outputs": [
        {
          "output_type": "stream",
          "name": "stdout",
          "text": [
            "masukkan nilai ujian = 70\n",
            "ANDA LULUS\n"
          ]
        }
      ]
    },
    {
      "cell_type": "markdown",
      "source": [
        "If-Else"
      ],
      "metadata": {
        "id": "KiakSFUOK4vm"
      }
    },
    {
      "cell_type": "code",
      "source": [
        "nilai = int(input(\"masukkan nilai ujian = \"))\n",
        "if nilai >= 60:\n",
        "  print(\"ANDA LULUS\")\n",
        "else:\n",
        "  print(\"ANDA TIDAK LULUS\")"
      ],
      "metadata": {
        "id": "REfLpfwzK8IE",
        "outputId": "a579a72e-4fae-4843-e6b8-cfae470871e0",
        "colab": {
          "base_uri": "https://localhost:8080/"
        }
      },
      "execution_count": null,
      "outputs": [
        {
          "output_type": "stream",
          "name": "stdout",
          "text": [
            "masukkan nilai ujian = 50\n",
            "ANDA TIDAK LULUS\n"
          ]
        }
      ]
    },
    {
      "cell_type": "markdown",
      "source": [
        "If-Elif-Else"
      ],
      "metadata": {
        "id": "l5t0BxJTLjYs"
      }
    },
    {
      "cell_type": "code",
      "source": [
        "nilai = int(input(\"masukkan nilai akhir = \"))\n",
        "\n",
        "if nilai >= 85:\n",
        "  grade = \"A\"\n",
        "elif nilai >= 70:\n",
        "  grade = \"B\"\n",
        "elif nilai >= 55:\n",
        "  grade = \"C\"\n",
        "elif nilai >= 40:\n",
        "  grade = \"D\"\n",
        "else:\n",
        "  grade = \"E\"\n",
        "\n",
        "print(f\"nilai anda {nilai}, maka grade anda = {grade}\")"
      ],
      "metadata": {
        "id": "mz1jh9iHLfcQ",
        "outputId": "64b66750-b0fa-4581-dde8-4744c99b03ed",
        "colab": {
          "base_uri": "https://localhost:8080/"
        }
      },
      "execution_count": null,
      "outputs": [
        {
          "output_type": "stream",
          "name": "stdout",
          "text": [
            "masukkan nilai akhir = 78\n",
            "nilai anda 78, maka grade anda = B\n"
          ]
        }
      ]
    },
    {
      "cell_type": "markdown",
      "source": [
        "Nested IF"
      ],
      "metadata": {
        "id": "gryxDlGzM4B8"
      }
    },
    {
      "cell_type": "markdown",
      "source": [
        "-(Beasiswa)"
      ],
      "metadata": {
        "id": "hdoAw_sSM83m"
      }
    },
    {
      "cell_type": "code",
      "source": [
        "ipk = float(input(\"masukkan IPK = \"))\n",
        "sks = int(input(\"masukkan jumlah SKS = \"))\n",
        "\n",
        "if ipk >= 3.0:\n",
        "  if sks >= 18:\n",
        "    print(\"ANDA LAYAK MENDAPAT BEASISWA \")\n",
        "  else:\n",
        "    print(\"IPK MEMENUHI, TAPI SKS KURANG\")\n",
        "else:\n",
        "  print(\"ANDA TIDAK LAYAK MENDAPAT BEASISWA\")"
      ],
      "metadata": {
        "id": "IlXba493NC1K",
        "outputId": "95b4fa79-7fc5-4e2e-8a54-e274dbe73911",
        "colab": {
          "base_uri": "https://localhost:8080/"
        }
      },
      "execution_count": null,
      "outputs": [
        {
          "output_type": "stream",
          "name": "stdout",
          "text": [
            "masukkan IPK = 3.2\n",
            "masukkan jumlah SKS = 20\n",
            "ANDA LAYAK MENDAPAT BEASISWA \n"
          ]
        }
      ]
    },
    {
      "cell_type": "markdown",
      "source": [
        "-(Beasiswa, gagal SKS)"
      ],
      "metadata": {
        "id": "uZs4ILLCOdV0"
      }
    },
    {
      "cell_type": "code",
      "source": [
        "ipk = float(input(\"masukkan IPK = \"))\n",
        "sks = int(input(\"masukkan jumlah SKS = \"))\n",
        "\n",
        "if ipk >= 3.0:\n",
        "  if sks >= 18:\n",
        "    print(\"ANDA LAYAK MENDAPAT BEASISWA \")\n",
        "  else:\n",
        "    print(\"IPK MEMENUHI, TAPI SKS KURANG\")\n",
        "else:\n",
        "  print(\"ANDA TIDAK LAYAK MENDAPAT BEASISWA\")"
      ],
      "metadata": {
        "id": "EtTfJUvLOpdK",
        "outputId": "b71d43a7-4c37-4872-fe43-92bc8f85ffc5",
        "colab": {
          "base_uri": "https://localhost:8080/"
        }
      },
      "execution_count": null,
      "outputs": [
        {
          "output_type": "stream",
          "name": "stdout",
          "text": [
            "masukkan IPK = 3.2\n",
            "masukkan jumlah SKS = 16\n",
            "IPK MEMENUHI, TAPI SKS KURANG\n"
          ]
        }
      ]
    },
    {
      "cell_type": "markdown",
      "source": [
        "-(Beasiswa, gagal IPK)"
      ],
      "metadata": {
        "id": "DD1AZayQOvnj"
      }
    },
    {
      "cell_type": "code",
      "source": [
        "ipk = float(input(\"masukkan IPK = \"))\n",
        "sks = int(input(\"masukkan jumlah SKS = \"))\n",
        "\n",
        "if ipk >= 3.0:\n",
        "  if sks >= 18:\n",
        "    print(\"ANDA LAYAK MENDAPAT BEASISWA \")\n",
        "  else:\n",
        "    print(\"IPK MEMENUHI, TAPI SKS KURANG\")\n",
        "else:\n",
        "  print(\"ANDA TIDAK LAYAK MENDAPAT BEASISWA\")"
      ],
      "metadata": {
        "id": "QI-Gk5BJO2oy",
        "outputId": "cd0089d2-290c-4e70-998d-fb1e1995a68a",
        "colab": {
          "base_uri": "https://localhost:8080/"
        }
      },
      "execution_count": null,
      "outputs": [
        {
          "output_type": "stream",
          "name": "stdout",
          "text": [
            "masukkan IPK = 2.8\n",
            "masukkan jumlah SKS = 20\n",
            "ANDA TIDAK LAYAK MENDAPAT BEASISWA\n"
          ]
        }
      ]
    },
    {
      "cell_type": "markdown",
      "source": [
        "Match-Case"
      ],
      "metadata": {
        "id": "votATuLzPast"
      }
    },
    {
      "cell_type": "markdown",
      "source": [
        "-(Input benar)"
      ],
      "metadata": {
        "id": "BCZeytpuPUT-"
      }
    },
    {
      "cell_type": "code",
      "source": [
        "menu = int(input(\"pilih menu (1-3) = \"))\n",
        "\n",
        "match menu:\n",
        "  case 1:\n",
        "    print(\"ANDA MEMILIH NASI GORENG\")\n",
        "  case 2:\n",
        "    print(\"ANDA MEMILIH MIE AYAM\")\n",
        "  case 3:\n",
        "    print(\"ANDA MELIH SOTO AYAM\")\n",
        "  case _:\n",
        "    print(\"MENU TIDAK TERSEDIA\")\n"
      ],
      "metadata": {
        "id": "Yfy03sERPX0j",
        "outputId": "0f6c8e1e-feea-4d80-9328-be0ed131fe0d",
        "colab": {
          "base_uri": "https://localhost:8080/"
        }
      },
      "execution_count": null,
      "outputs": [
        {
          "output_type": "stream",
          "name": "stdout",
          "text": [
            "pilih menu (1-3) = 2\n",
            "ANDA MEMILIH MIE AYAM\n"
          ]
        }
      ]
    },
    {
      "cell_type": "markdown",
      "source": [
        "-(Input salah)"
      ],
      "metadata": {
        "id": "NjrWenvISnuj"
      }
    },
    {
      "cell_type": "code",
      "source": [
        "menu = int(input(\"pilih menu (1-3) = \"))\n",
        "\n",
        "match menu:\n",
        "  case 1:\n",
        "    print(\"ANDA MEMILIH NASI GORENG\")\n",
        "  case 2:\n",
        "    print(\"ANDA MEMILIH MIE AYAM\")\n",
        "  case 3:\n",
        "    print(\"ANDA MELIH SOTO AYAM\")\n",
        "  case _:\n",
        "    print(\"MENU TIDAK TERSEDIA\")\n"
      ],
      "metadata": {
        "id": "F4OxhidESsk8",
        "outputId": "9180091a-bfaf-4f62-a904-abfe4955db8f",
        "colab": {
          "base_uri": "https://localhost:8080/"
        }
      },
      "execution_count": null,
      "outputs": [
        {
          "output_type": "stream",
          "name": "stdout",
          "text": [
            "pilih menu (1-3) = 9\n",
            "MENU TIDAK TERSEDIA\n"
          ]
        }
      ]
    },
    {
      "cell_type": "markdown",
      "source": [
        "Program Kasir"
      ],
      "metadata": {
        "id": "P_7Rs9cuSwR7"
      }
    },
    {
      "cell_type": "code",
      "source": [
        "barang = input(\"masukkan nama barang= \")\n",
        "harga = float(input(\"masukkan harga barang= \"))\n",
        "jumlah = int(input(\"masukkan jumlah barang= \"))\n",
        "\n",
        "total = harga * jumlah\n",
        "\n",
        "if total >= 500000:\n",
        "  diskon = 0.2\n",
        "elif total >= 250000:\n",
        "  diskon = 0.1\n",
        "else:\n",
        "  diskon = 0\n",
        "\n",
        "bayar = total - (total * diskon)\n",
        "\n",
        "print(\"\\n===== struk belanja =====\")\n",
        "print(f\"barang : {barang}\")\n",
        "print(f\"jumlah : {jumlah}\")\n",
        "print(f\"total : Rp {total}\")\n",
        "print(f\"diskon : {diskon * 100}%\")\n",
        "print(f\"bayar : Rp {bayar}\")"
      ],
      "metadata": {
        "id": "VfJVwVYaS6dF",
        "outputId": "be912509-1aa6-47bd-86e1-58a7fbd364d7",
        "colab": {
          "base_uri": "https://localhost:8080/"
        }
      },
      "execution_count": null,
      "outputs": [
        {
          "output_type": "stream",
          "name": "stdout",
          "text": [
            "masukkan nama barang= buku\n",
            "masukkan harga barang= 60000\n",
            "masukkan jumlah barang= 5\n",
            "\n",
            "===== struk belanja =====\n",
            "barang : buku\n",
            "jumlah : 5\n",
            "total : Rp 300000.0\n",
            "diskon : 10.0%\n",
            "bayar : Rp 270000.0\n"
          ]
        }
      ]
    },
    {
      "cell_type": "markdown",
      "source": [
        "-(diskon 20%)"
      ],
      "metadata": {
        "id": "biFhZvcNUHGk"
      }
    },
    {
      "cell_type": "code",
      "source": [
        "barang = input(\"masukkan nama barang= \")\n",
        "harga = float(input(\"masukkan harga barang= \"))\n",
        "jumlah = int(input(\"masukkan jumlah barang= \"))\n",
        "\n",
        "total = harga * jumlah\n",
        "\n",
        "if total >= 500000:\n",
        "  diskon = 0.2\n",
        "elif total >= 250000:\n",
        "  diskon = 0.1\n",
        "else:\n",
        "  diskon = 0\n",
        "\n",
        "bayar = total - (total * diskon)\n",
        "\n",
        "print(\"\\n===== struk belanja =====\")\n",
        "print(f\"barang : {barang}\")\n",
        "print(f\"jumlah : {jumlah}\")\n",
        "print(f\"total : Rp {total}\")\n",
        "print(f\"diskon : {diskon * 100}%\")\n",
        "print(f\"bayar : Rp {bayar}\")"
      ],
      "metadata": {
        "id": "9BtcTtSuUKTr",
        "outputId": "b7e56bff-4e1d-4153-cb09-5075e113cb3f",
        "colab": {
          "base_uri": "https://localhost:8080/"
        }
      },
      "execution_count": null,
      "outputs": [
        {
          "output_type": "stream",
          "name": "stdout",
          "text": [
            "masukkan nama barang= tas\n",
            "masukkan harga barang= 200000\n",
            "masukkan jumlah barang= 3\n",
            "\n",
            "===== struk belanja =====\n",
            "barang : tas\n",
            "jumlah : 3\n",
            "total : Rp 600000.0\n",
            "diskon : 20.0%\n",
            "bayar : Rp 480000.0\n"
          ]
        }
      ]
    },
    {
      "cell_type": "markdown",
      "source": [
        "-(Tanpa diskon)"
      ],
      "metadata": {
        "id": "1ZW50neIUUaA"
      }
    },
    {
      "cell_type": "code",
      "source": [
        "barang = input(\"masukkan nama barang= \")\n",
        "harga = float(input(\"masukkan harga barang= \"))\n",
        "jumlah = int(input(\"masukkan jumlah barang= \"))\n",
        "\n",
        "total = harga * jumlah\n",
        "\n",
        "if total >= 500000:\n",
        "  diskon = 0.2\n",
        "elif total >= 250000:\n",
        "  diskon = 0.1\n",
        "else:\n",
        "  diskon = 0\n",
        "\n",
        "bayar = total - (total * diskon)\n",
        "\n",
        "print(\"\\n===== struk belanja =====\")\n",
        "print(f\"barang : {barang}\")\n",
        "print(f\"jumlah : {jumlah}\")\n",
        "print(f\"total : Rp {total}\")\n",
        "print(f\"diskon : {diskon * 100}%\")\n",
        "print(f\"bayar : Rp {bayar}\")"
      ],
      "metadata": {
        "id": "OXVE03OeQ81N",
        "outputId": "0629525b-a610-4ec5-8db1-c7a30c803f95",
        "colab": {
          "base_uri": "https://localhost:8080/"
        }
      },
      "execution_count": null,
      "outputs": [
        {
          "output_type": "stream",
          "name": "stdout",
          "text": [
            "masukkan nama barang= pulpen\n",
            "masukkan harga barang= 5000\n",
            "masukkan jumlah barang= 10\n",
            "\n",
            "===== struk belanja =====\n",
            "barang : pulpen\n",
            "jumlah : 10\n",
            "total : Rp 50000.0\n",
            "diskon : 0%\n",
            "bayar : Rp 50000.0\n"
          ]
        }
      ]
    },
    {
      "cell_type": "markdown",
      "source": [
        "**PENUGASAN**"
      ],
      "metadata": {
        "id": "0qpS7tv8EghJ"
      }
    },
    {
      "cell_type": "markdown",
      "source": [
        "Cek Bilangan Positif/Negatif/Nol"
      ],
      "metadata": {
        "id": "105kRu9KVCKQ"
      }
    },
    {
      "cell_type": "code",
      "source": [
        "a = int(input(\"masukkan angka = \"))\n",
        "\n",
        "if a > 0:\n",
        "  print(\"bilangan positif\")\n",
        "elif a < 0:\n",
        "  print(\"bilangan negatif\")\n",
        "else:\n",
        "  print(\"bilangan anda nol\")"
      ],
      "metadata": {
        "id": "wzCkHNzQUY-H",
        "outputId": "5016adf0-5cee-4599-e3da-d706175f78aa",
        "colab": {
          "base_uri": "https://localhost:8080/"
        }
      },
      "execution_count": null,
      "outputs": [
        {
          "output_type": "stream",
          "name": "stdout",
          "text": [
            "masukkan angka = -4\n",
            "bilangan negatif\n"
          ]
        }
      ]
    },
    {
      "cell_type": "markdown",
      "source": [
        "Menentukan Kategori Usia"
      ],
      "metadata": {
        "id": "DD87TFWwWGH_"
      }
    },
    {
      "cell_type": "code",
      "source": [
        "usia = int(input(\"masukkan usia anda = \"))\n",
        "\n",
        "if usia < 5:\n",
        "  print(\"balita\")\n",
        "elif usia >= 5 and usia <= 11:\n",
        "  print(\"anak anak\")\n",
        "elif usia >= 12 and usia <= 17:\n",
        "  print(\"remaja\")\n",
        "elif usia >= 18 and usia <= 59:\n",
        "  print (\"dewasa\")\n",
        "else:\n",
        "  print(\"lansia\")"
      ],
      "metadata": {
        "id": "Ahghmd_ZV-Er",
        "outputId": "1a456966-5af2-4b91-881e-e9b108e75883",
        "colab": {
          "base_uri": "https://localhost:8080/"
        }
      },
      "execution_count": null,
      "outputs": [
        {
          "output_type": "stream",
          "name": "stdout",
          "text": [
            "masukkan usia anda = 70\n",
            "lansia\n"
          ]
        }
      ]
    },
    {
      "cell_type": "markdown",
      "source": [
        "Hitung Tarif Parkir"
      ],
      "metadata": {
        "id": "wgD-dRJ4XrEe"
      }
    },
    {
      "cell_type": "code",
      "source": [
        "lama_parkir = int(input(\"masukkan berapa lama anda parkir (jam) = \"))\n",
        "\n",
        "if lama_parkir <= 2:\n",
        "  print(\"bayar 5000\")\n",
        "elif lama_parkir > 2 and lama_parkir <= 9:\n",
        "  bayar_lebih = (5000 + (lama_parkir - 2) * 2000)\n",
        "  print(f\"bayar {bayar_lebih}\")\n",
        "else:\n",
        "  print(\"bayar 20000\")"
      ],
      "metadata": {
        "id": "jBYlSeaTXkdM",
        "outputId": "8981c051-32c6-4c33-fe14-8ff7f8de9530",
        "colab": {
          "base_uri": "https://localhost:8080/"
        }
      },
      "execution_count": null,
      "outputs": [
        {
          "output_type": "stream",
          "name": "stdout",
          "text": [
            "masukkan berapa lama anda parkir (jam) = 5\n",
            "bayar 11000\n"
          ]
        }
      ]
    },
    {
      "cell_type": "markdown",
      "source": [
        "Cek Login Sederhana"
      ],
      "metadata": {
        "id": "oQw5nTqOhbZy"
      }
    },
    {
      "cell_type": "code",
      "source": [
        "username = input(\"masukkan username = \")\n",
        "password = input(\"masukkan password = \")\n",
        "\n",
        "if username == \"admin\":\n",
        "  if password == \"1234\":\n",
        "    print(\"login berhasil\")\n",
        "  else:\n",
        "    print(\"password anda salah\")\n",
        "else:\n",
        "  print(\"username atau password mungkin salah\")"
      ],
      "metadata": {
        "id": "RK8pO3G3ckMV",
        "outputId": "485a8041-1e68-4d06-c6de-a4efa48377ca",
        "colab": {
          "base_uri": "https://localhost:8080/"
        }
      },
      "execution_count": null,
      "outputs": [
        {
          "output_type": "stream",
          "name": "stdout",
          "text": [
            "masukkan username = admin\n",
            "masukkan password = 123\n",
            "password anda salah\n"
          ]
        }
      ]
    },
    {
      "cell_type": "markdown",
      "source": [
        "One-Liner If (Cek Genap/Ganjil)"
      ],
      "metadata": {
        "id": "QI17qYPU8Tj7"
      }
    },
    {
      "cell_type": "code",
      "source": [
        "x = int(input(\"masukkan angka = \"))\n",
        "\n",
        "hasil = \"genap\" if x % 2 == 0 else \"ganjil\"\n",
        "print(f\"bilangan {x} adalah {hasil}\")"
      ],
      "metadata": {
        "colab": {
          "base_uri": "https://localhost:8080/"
        },
        "id": "pGlNP96d8W03",
        "outputId": "dded66a7-5249-4d45-b15e-97fdddc792fc"
      },
      "execution_count": 1,
      "outputs": [
        {
          "output_type": "stream",
          "name": "stdout",
          "text": [
            "masukkan angka = 7\n",
            "bilangan 7 adalah ganjil\n"
          ]
        }
      ]
    },
    {
      "cell_type": "markdown",
      "source": [
        "Menu Restoran dengan Match-Case"
      ],
      "metadata": {
        "id": "BPHcOsgn98JH"
      }
    },
    {
      "cell_type": "code",
      "source": [
        "menu = int(input(\"pilih menu (1-3) = \"))\n",
        "\n",
        "match menu:\n",
        "  case 1:\n",
        "    print(\"ANDA MEMILIH NASI GORENG\")\n",
        "  case 2:\n",
        "    print(\"ANDA MEMILIH MIE AYAM\")\n",
        "  case 3:\n",
        "    print(\"ANDA MELIH SOTO AYAM\")\n",
        "  case _:\n",
        "    print(\"MENU TIDAK TERSEDIA\")\n"
      ],
      "metadata": {
        "colab": {
          "base_uri": "https://localhost:8080/"
        },
        "id": "eyG4fN3J-Dk7",
        "outputId": "ce81bdce-90e4-4f36-b315-f8ff50fc0be1"
      },
      "execution_count": 2,
      "outputs": [
        {
          "output_type": "stream",
          "name": "stdout",
          "text": [
            "pilih menu (1-3) = 7\n",
            "MENU TIDAK TERSEDIA\n"
          ]
        }
      ]
    },
    {
      "cell_type": "markdown",
      "source": [
        "Studi Kasus Nyata - Program Penentuan Diskon"
      ],
      "metadata": {
        "id": "0NGT8APD-VB1"
      }
    },
    {
      "cell_type": "code",
      "source": [
        "barang = input(\"masukkan nama barang= \")\n",
        "harga = float(input(\"masukkan harga barang= \"))\n",
        "jumlah = int(input(\"masukkan jumlah barang= \"))\n",
        "\n",
        "total = harga * jumlah\n",
        "\n",
        "if total >= 500000:\n",
        "  diskon = 0.2\n",
        "elif total >= 250000:\n",
        "  diskon = 0.1\n",
        "else:\n",
        "  diskon = 0\n",
        "\n",
        "bayar = total - (total * diskon)\n",
        "\n",
        "print(\"\\n===== struk belanja =====\")\n",
        "print(f\"barang : {barang}\")\n",
        "print(f\"jumlah : {jumlah}\")\n",
        "print(f\"total : Rp {total}\")\n",
        "print(f\"diskon : {diskon * 100}%\")\n",
        "print(f\"bayar : Rp {bayar}\")"
      ],
      "metadata": {
        "colab": {
          "base_uri": "https://localhost:8080/"
        },
        "id": "rGd1HoCW-fPH",
        "outputId": "d0f8675b-49c5-4b48-a6ca-223bcc2c9fd5"
      },
      "execution_count": 3,
      "outputs": [
        {
          "output_type": "stream",
          "name": "stdout",
          "text": [
            "masukkan nama barang= odol\n",
            "masukkan harga barang= 50000\n",
            "masukkan jumlah barang= 6\n",
            "\n",
            "===== struk belanja =====\n",
            "barang : odol\n",
            "jumlah : 6\n",
            "total : Rp 300000.0\n",
            "diskon : 10.0%\n",
            "bayar : Rp 270000.0\n"
          ]
        }
      ]
    }
  ]
}