{
  "nbformat": 4,
  "nbformat_minor": 0,
  "metadata": {
    "colab": {
      "provenance": [],
      "authorship_tag": "ABX9TyOtvFWskEbwLkDGAV3slwej",
      "include_colab_link": true
    },
    "kernelspec": {
      "name": "python3",
      "display_name": "Python 3"
    },
    "language_info": {
      "name": "python"
    }
  },
  "cells": [
    {
      "cell_type": "markdown",
      "metadata": {
        "id": "view-in-github",
        "colab_type": "text"
      },
      "source": [
        "<a href=\"https://colab.research.google.com/github/lianbelian/TUGAS-PAK-PRAYIT-ALGOPRO/blob/main/praktikum%2007.ipynb\" target=\"_parent\"><img src=\"https://colab.research.google.com/assets/colab-badge.svg\" alt=\"Open In Colab\"/></a>"
      ]
    },
    {
      "cell_type": "markdown",
      "source": [
        "Praktikum 01 – Tuple: Data Tetap"
      ],
      "metadata": {
        "id": "TpgDALingQRM"
      }
    },
    {
      "cell_type": "code",
      "source": [
        "koordinat = (7.05, 110.44)\n",
        "print(\"Lintang:\", koordinat[0])\n",
        "print(\"Bujur:\", koordinat[1])"
      ],
      "metadata": {
        "id": "nzkBJ_W1gSGr",
        "outputId": "87269186-e721-4cf9-bb28-730e741c095f",
        "colab": {
          "base_uri": "https://localhost:8080/"
        }
      },
      "execution_count": 1,
      "outputs": [
        {
          "output_type": "stream",
          "name": "stdout",
          "text": [
            "Lintang: 7.05\n",
            "Bujur: 110.44\n"
          ]
        }
      ]
    },
    {
      "cell_type": "markdown",
      "source": [
        "Praktikum 02 – Dictionary Dasar"
      ],
      "metadata": {
        "id": "HlUK6beZg2M0"
      }
    },
    {
      "cell_type": "code",
      "source": [
        "mahasiswa = {\n",
        "    \"nama\": \"andi\",\n",
        "    \"nim\": \"20251001\",\n",
        "    \"prodi\": \"TRK\"\n",
        "}\n",
        "print(\"Nama:\", mahasiswa[\"nama\"])\n",
        "print(\"NIM:\", mahasiswa[\"nim\"])\n",
        "print(\"Program Studi:\", mahasiswa[\"prodi\"])"
      ],
      "metadata": {
        "id": "QDZ0NI1Sg3Yz",
        "outputId": "5deb2ec6-b7f1-4c6c-d24d-418a20149d04",
        "colab": {
          "base_uri": "https://localhost:8080/"
        }
      },
      "execution_count": null,
      "outputs": [
        {
          "output_type": "stream",
          "name": "stdout",
          "text": [
            "Nama: andi\n",
            "NIM: 20251001\n",
            "Program Studi: TRK\n"
          ]
        }
      ]
    },
    {
      "cell_type": "markdown",
      "source": [
        "Praktikum 03 – Operasi pada Dictionary"
      ],
      "metadata": {
        "id": "E9428KI_qKyQ"
      }
    },
    {
      "cell_type": "code",
      "source": [
        "mahasiswa = {\n",
        "    \"nama\": \"andi\",\n",
        "    \"nim\": \"20251001\",\n",
        "    \"prodi\": \"TRK\"\n",
        "}\n",
        "\n",
        "mahasiswa [\"umur\"] = 20\n",
        "mahasiswa[\"prodi\"] = \"Teknik Komputer\"\n",
        "del mahasiswa[\"umur\"]\n",
        "\n",
        "print(mahasiswa)"
      ],
      "metadata": {
        "id": "sqcZIteuqNLH",
        "outputId": "e5a66dca-39ae-4047-bb3c-64413c91b32a",
        "colab": {
          "base_uri": "https://localhost:8080/"
        }
      },
      "execution_count": null,
      "outputs": [
        {
          "output_type": "stream",
          "name": "stdout",
          "text": [
            "{'nama': 'andi', 'nim': '20251001', 'prodi': 'Teknik Komputer'}\n"
          ]
        }
      ]
    },
    {
      "cell_type": "markdown",
      "source": [
        "Praktikum 04 – Set dan Operasi Himpunan"
      ],
      "metadata": {
        "id": "PoefoIGWrMqo"
      }
    },
    {
      "cell_type": "code",
      "source": [
        "A = {1, 2, 3, 4}\n",
        "B = {3, 4, 5, 6}\n",
        "\n",
        "print(\"Union:\", A | B)\n",
        "print(\"Intersection:\", A & B)\n",
        "print(\"Difference:\", B - A)"
      ],
      "metadata": {
        "id": "01pvMnMvrhwT",
        "outputId": "5cba4daa-f9ce-404b-eb73-36dc2f90232b",
        "colab": {
          "base_uri": "https://localhost:8080/"
        }
      },
      "execution_count": null,
      "outputs": [
        {
          "output_type": "stream",
          "name": "stdout",
          "text": [
            "Union: {1, 2, 3, 4, 5, 6}\n",
            "Intersection: {3, 4}\n",
            "Difference: {5, 6}\n"
          ]
        }
      ]
    },
    {
      "cell_type": "markdown",
      "source": [
        "Praktikum 05 – Studi Kasus: Mata Kuliah"
      ],
      "metadata": {
        "id": "YvF8nh2GsTu3"
      }
    },
    {
      "cell_type": "code",
      "source": [
        "mhs1={\"Algoritma\",\"Matematika\",\"Bahasa Inggris\"}\n",
        "mhs2={\"Algoritma\",\"Basis Data\",\"Matematika\"}\n",
        "\n",
        "print(\"Mata kuliah Mhs1 = \", mhs1)\n",
        "print(\"Mata kuliah Mhs2 = \", mhs2)\n",
        "print(\"Mata kuliah yang sama = \", mhs1 & mhs2)"
      ],
      "metadata": {
        "id": "9ZDmLofPsXTK",
        "outputId": "d96fa5e5-825b-4b31-d443-94726b7e8e11",
        "colab": {
          "base_uri": "https://localhost:8080/"
        }
      },
      "execution_count": null,
      "outputs": [
        {
          "output_type": "stream",
          "name": "stdout",
          "text": [
            "Mata kuliah Mhs1 =  {'Algoritma', 'Bahasa Inggris', 'Matematika'}\n",
            "Mata kuliah Mhs2 =  {'Basis Data', 'Algoritma', 'Matematika'}\n",
            "Mata kuliah yang sama =  {'Matematika', 'Algoritma'}\n"
          ]
        }
      ]
    },
    {
      "cell_type": "markdown",
      "source": [
        "Praktikum 06 – Studi Kasus Dictionary: Daftar Nilai"
      ],
      "metadata": {
        "id": "wIXdoa0mtL1c"
      }
    },
    {
      "cell_type": "code",
      "source": [
        "nilai_mahasiswa = {\n",
        "    \"Andi\": 80,\n",
        "    \"Budi\": 75,\n",
        "    \"Cici\": 90\n",
        "}\n",
        "\n",
        "for nama, nilai in nilai_mahasiswa.items():\n",
        "  print(f\"{nama}: {nilai}\")\n",
        "\n",
        "rata = sum(nilai_mahasiswa.values()) / len(nilai_mahasiswa)\n",
        "print(f\"Dari {len(nilai_mahasiswa)} Mahasiswa tersebut memiliki rata-rata {rata:.2f}\")"
      ],
      "metadata": {
        "id": "0tr2QW_XtXAf",
        "outputId": "e270be17-1657-4092-dbd5-90129281697b",
        "colab": {
          "base_uri": "https://localhost:8080/"
        }
      },
      "execution_count": null,
      "outputs": [
        {
          "output_type": "stream",
          "name": "stdout",
          "text": [
            "Andi: 80\n",
            "Budi: 75\n",
            "Cici: 90\n",
            "Dari 3 Mahasiswa tersebut memiliki rata-rata 81.67\n"
          ]
        }
      ]
    },
    {
      "cell_type": "markdown",
      "source": [
        "**PENUGASAN**"
      ],
      "metadata": {
        "id": "1aQ_DH-z_el3"
      }
    },
    {
      "cell_type": "markdown",
      "source": [
        "- Tuple Sederhana"
      ],
      "metadata": {
        "id": "VhQi6m0u_hwt"
      }
    },
    {
      "cell_type": "code",
      "source": [
        "identitas = (\"lian\", 18, \"TRK\")\n",
        "print(\"nama = \", identitas[0])\n",
        "print(\"umur = \", identitas[1])\n",
        "print(\"prodi = \", identitas[2])"
      ],
      "metadata": {
        "id": "BgHszZeg_k5L",
        "outputId": "3fee8133-1d20-4e0c-dcdd-2f4940ff840a",
        "colab": {
          "base_uri": "https://localhost:8080/"
        }
      },
      "execution_count": 3,
      "outputs": [
        {
          "output_type": "stream",
          "name": "stdout",
          "text": [
            "nama =  lian\n",
            "umur =  18\n",
            "prodi =  TRK\n"
          ]
        }
      ]
    },
    {
      "cell_type": "markdown",
      "source": [
        "- Tuple Tidak Bisa Diubah"
      ],
      "metadata": {
        "id": "1nclrHKFAnE5"
      }
    },
    {
      "cell_type": "code",
      "source": [
        "nilai = (1, 2, 3)\n",
        "nilai[1] = 7\n",
        "print(nilai)"
      ],
      "metadata": {
        "id": "Otm-SfPFAqph",
        "outputId": "9df23c8a-ca9a-4cea-d2d2-cc82dbca2de8",
        "colab": {
          "base_uri": "https://localhost:8080/",
          "height": 176
        }
      },
      "execution_count": 5,
      "outputs": [
        {
          "output_type": "error",
          "ename": "TypeError",
          "evalue": "'tuple' object does not support item assignment",
          "traceback": [
            "\u001b[0;31m---------------------------------------------------------------------------\u001b[0m",
            "\u001b[0;31mTypeError\u001b[0m                                 Traceback (most recent call last)",
            "\u001b[0;32m/tmp/ipython-input-1178018809.py\u001b[0m in \u001b[0;36m<cell line: 0>\u001b[0;34m()\u001b[0m\n\u001b[1;32m      1\u001b[0m \u001b[0mnilai\u001b[0m \u001b[0;34m=\u001b[0m \u001b[0;34m(\u001b[0m\u001b[0;36m1\u001b[0m\u001b[0;34m,\u001b[0m \u001b[0;36m2\u001b[0m\u001b[0;34m,\u001b[0m \u001b[0;36m3\u001b[0m\u001b[0;34m)\u001b[0m\u001b[0;34m\u001b[0m\u001b[0;34m\u001b[0m\u001b[0m\n\u001b[0;32m----> 2\u001b[0;31m \u001b[0mnilai\u001b[0m\u001b[0;34m[\u001b[0m\u001b[0;36m1\u001b[0m\u001b[0;34m]\u001b[0m \u001b[0;34m=\u001b[0m \u001b[0;36m7\u001b[0m\u001b[0;34m\u001b[0m\u001b[0;34m\u001b[0m\u001b[0m\n\u001b[0m\u001b[1;32m      3\u001b[0m \u001b[0mprint\u001b[0m\u001b[0;34m(\u001b[0m\u001b[0mnilai\u001b[0m\u001b[0;34m)\u001b[0m\u001b[0;34m\u001b[0m\u001b[0;34m\u001b[0m\u001b[0m\n",
            "\u001b[0;31mTypeError\u001b[0m: 'tuple' object does not support item assignment"
          ]
        }
      ]
    },
    {
      "cell_type": "markdown",
      "source": [
        "- Dictionary Dasar"
      ],
      "metadata": {
        "id": "xvWYxErbDKGw"
      }
    },
    {
      "cell_type": "code",
      "source": [
        "buku = {\n",
        "    \"judul\": \"Algoritma\",\n",
        "    \"penulis\": \"Munir\",\n",
        "    \"tahun_terbit\": 2021\n",
        "}\n",
        "\n",
        "print(\"Judul = \", buku[\"judul\"])\n",
        "print(\"Penulis = \", buku[\"penulis\"])\n",
        "print(\"Tahun Terbit = \", buku[\"tahun_terbit\"])"
      ],
      "metadata": {
        "id": "ytAfekYQ_gt6",
        "outputId": "dc866dfd-11ee-411c-f4a4-df782c43c6bb",
        "colab": {
          "base_uri": "https://localhost:8080/"
        }
      },
      "execution_count": 6,
      "outputs": [
        {
          "output_type": "stream",
          "name": "stdout",
          "text": [
            "Judul =  Algoritma\n",
            "Penulis =  Munir\n",
            "Tahun Terbit =  2021\n"
          ]
        }
      ]
    },
    {
      "cell_type": "markdown",
      "source": [
        "- Operasi Dictionary"
      ],
      "metadata": {
        "id": "hRokuoI-EF8N"
      }
    },
    {
      "cell_type": "code",
      "source": [
        "data_dosen = {\"NIP\": \"12345\", \"Nama\": \"Budi\", \"Prodi\": \"TRK\"}\n",
        "data_dosen [\"Umur\"] = 40\n",
        "data_dosen [\"Prodi\"] = \"Teknik Komputer\"\n",
        "del data_dosen [\"Umur\"]\n",
        "\n",
        "print(data_dosen)\n"
      ],
      "metadata": {
        "id": "5B90E46CEI4J",
        "outputId": "107ec6ab-3289-4ca5-f3ab-09cd85848142",
        "colab": {
          "base_uri": "https://localhost:8080/"
        }
      },
      "execution_count": 7,
      "outputs": [
        {
          "output_type": "stream",
          "name": "stdout",
          "text": [
            "{'NIP': '12345', 'Nama': 'Budi', 'Prodi': 'Teknik Komputer'}\n"
          ]
        }
      ]
    },
    {
      "cell_type": "markdown",
      "source": [
        "- Set dan Himpunan"
      ],
      "metadata": {
        "id": "g0gjNloxFAPc"
      }
    },
    {
      "cell_type": "code",
      "source": [
        "A = {\"Matematika\", \"Algoritma\", \"Bahasa Inggris\"}\n",
        "B = {\"Algoritma\", \"Basis Data\", \"Matematika\"}\n",
        "\n",
        "print(\"Union = \", A | B)\n",
        "print(\"Intersection = \", A & B)\n",
        "print(\"Difference = \", A - B)"
      ],
      "metadata": {
        "id": "uBk8hof2FCpN",
        "outputId": "044241ee-9a5f-4037-9e0f-9cdeebc97693",
        "colab": {
          "base_uri": "https://localhost:8080/"
        }
      },
      "execution_count": 10,
      "outputs": [
        {
          "output_type": "stream",
          "name": "stdout",
          "text": [
            "Union =  {'Matematika', 'Algoritma', 'Bahasa Inggris', 'Basis Data'}\n",
            "Intersection =  {'Algoritma', 'Matematika'}\n",
            "Difference =  {'Bahasa Inggris'}\n"
          ]
        }
      ]
    },
    {
      "cell_type": "markdown",
      "source": [
        "- Studi Kasus Dictionary"
      ],
      "metadata": {
        "id": "TFdmDK37GCFv"
      }
    },
    {
      "cell_type": "code",
      "source": [
        "nilai_mahasiswa = {\"Andi\": 85, \"Budi\": 90, \"Cici\": 78}\n",
        "\n",
        "for nama, nilai in nilai_mahasiswa.items():\n",
        "  print(f\"{nama}: {nilai}\")\n",
        "\n",
        "rata = sum(nilai_mahasiswa.values()) / len(nilai_mahasiswa)\n",
        "print(f\"Dari {len(nilai_mahasiswa)} Mahasiswa tersebut memiliki rata-rata {rata:.2f}\")"
      ],
      "metadata": {
        "id": "zT9tkOZJGEty"
      },
      "execution_count": null,
      "outputs": []
    },
    {
      "cell_type": "code",
      "execution_count": null,
      "metadata": {
        "id": "wW6z28fSfX4O"
      },
      "outputs": [],
      "source": []
    }
  ]
}