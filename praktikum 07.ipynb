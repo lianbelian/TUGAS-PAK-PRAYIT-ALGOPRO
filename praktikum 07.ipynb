{
  "nbformat": 4,
  "nbformat_minor": 0,
  "metadata": {
    "colab": {
      "provenance": [],
      "authorship_tag": "ABX9TyPEhkPz7wDjoKtQatZsrLi9",
      "include_colab_link": true
    },
    "kernelspec": {
      "name": "python3",
      "display_name": "Python 3"
    },
    "language_info": {
      "name": "python"
    }
  },
  "cells": [
    {
      "cell_type": "markdown",
      "metadata": {
        "id": "view-in-github",
        "colab_type": "text"
      },
      "source": [
        "<a href=\"https://colab.research.google.com/github/lianbelian/TUGAS-PAK-PRAYIT-ALGOPRO/blob/main/praktikum%2007.ipynb\" target=\"_parent\"><img src=\"https://colab.research.google.com/assets/colab-badge.svg\" alt=\"Open In Colab\"/></a>"
      ]
    },
    {
      "cell_type": "markdown",
      "source": [
        "Praktikum 01 – Tuple: Data Tetap"
      ],
      "metadata": {
        "id": "TpgDALingQRM"
      }
    },
    {
      "cell_type": "code",
      "source": [
        "koordinat = (7.05, 110.44)\n",
        "print(\"Lintang:\", koordinat[0])\n",
        "print(\"Bujur:\", koordinat[1])"
      ],
      "metadata": {
        "id": "nzkBJ_W1gSGr",
        "outputId": "10d1ec9e-2fc9-45de-df1a-14417bc9c617",
        "colab": {
          "base_uri": "https://localhost:8080/"
        }
      },
      "execution_count": 1,
      "outputs": [
        {
          "output_type": "stream",
          "name": "stdout",
          "text": [
            "Lintang: 7.05\n",
            "Bujur: 110.44\n"
          ]
        }
      ]
    },
    {
      "cell_type": "markdown",
      "source": [
        "Praktikum 02 – Dictionary Dasar"
      ],
      "metadata": {
        "id": "HlUK6beZg2M0"
      }
    },
    {
      "cell_type": "code",
      "source": [
        "mahasiswa = {\n",
        "    \"nama\": \"andi\",\n",
        "    \"nim\": \"20251001\",\n",
        "    \"prodi\": \"TRK\"\n",
        "}\n",
        "print(\"Nama:\", mahasiswa[\"nama\"])\n",
        "print(\"NIM:\", mahasiswa[\"nim\"])\n",
        "print(\"Program Studi:\", mahasiswa[\"prodi\"])"
      ],
      "metadata": {
        "id": "QDZ0NI1Sg3Yz",
        "outputId": "5deb2ec6-b7f1-4c6c-d24d-418a20149d04",
        "colab": {
          "base_uri": "https://localhost:8080/"
        }
      },
      "execution_count": 2,
      "outputs": [
        {
          "output_type": "stream",
          "name": "stdout",
          "text": [
            "Nama: andi\n",
            "NIM: 20251001\n",
            "Program Studi: TRK\n"
          ]
        }
      ]
    },
    {
      "cell_type": "markdown",
      "source": [
        "Praktikum 03 – Operasi pada Dictionary"
      ],
      "metadata": {
        "id": "E9428KI_qKyQ"
      }
    },
    {
      "cell_type": "code",
      "source": [
        "mahasiswa = {\n",
        "    \"nama\": \"andi\",\n",
        "    \"nim\": \"20251001\",\n",
        "    \"prodi\": \"TRK\"\n",
        "}\n",
        "\n",
        "mahasiswa [\"umur\"] = 20\n",
        "mahasiswa[\"prodi\"] = \"Teknik Komputer\"\n",
        "del mahasiswa[\"umur\"]\n",
        "\n",
        "print(mahasiswa)"
      ],
      "metadata": {
        "id": "sqcZIteuqNLH",
        "outputId": "e5a66dca-39ae-4047-bb3c-64413c91b32a",
        "colab": {
          "base_uri": "https://localhost:8080/"
        }
      },
      "execution_count": 4,
      "outputs": [
        {
          "output_type": "stream",
          "name": "stdout",
          "text": [
            "{'nama': 'andi', 'nim': '20251001', 'prodi': 'Teknik Komputer'}\n"
          ]
        }
      ]
    },
    {
      "cell_type": "markdown",
      "source": [
        "Praktikum 04 – Set dan Operasi Himpunan"
      ],
      "metadata": {
        "id": "PoefoIGWrMqo"
      }
    },
    {
      "cell_type": "code",
      "source": [
        "A = {1, 2, 3, 4}\n",
        "B = {3, 4, 5, 6}\n",
        "\n",
        "print(\"Union:\", A | B)\n",
        "print(\"Intersection:\", A & B)\n",
        "print(\"Difference:\", B - A)"
      ],
      "metadata": {
        "id": "01pvMnMvrhwT",
        "outputId": "5cba4daa-f9ce-404b-eb73-36dc2f90232b",
        "colab": {
          "base_uri": "https://localhost:8080/"
        }
      },
      "execution_count": 6,
      "outputs": [
        {
          "output_type": "stream",
          "name": "stdout",
          "text": [
            "Union: {1, 2, 3, 4, 5, 6}\n",
            "Intersection: {3, 4}\n",
            "Difference: {5, 6}\n"
          ]
        }
      ]
    },
    {
      "cell_type": "markdown",
      "source": [
        "Praktikum 05 – Studi Kasus: Mata Kuliah"
      ],
      "metadata": {
        "id": "YvF8nh2GsTu3"
      }
    },
    {
      "cell_type": "code",
      "source": [
        "mhs1={\"Algoritma\",\"Matematika\",\"Bahasa Inggris\"}\n",
        "mhs2={\"Algoritma\",\"Basis Data\",\"Matematika\"}\n",
        "\n",
        "print(\"Mata kuliah Mhs1 = \", mhs1)\n",
        "print(\"Mata kuliah Mhs2 = \", mhs2)\n",
        "print(\"Mata kuliah yang sama = \", mhs1 & mhs2)"
      ],
      "metadata": {
        "id": "9ZDmLofPsXTK",
        "outputId": "d96fa5e5-825b-4b31-d443-94726b7e8e11",
        "colab": {
          "base_uri": "https://localhost:8080/"
        }
      },
      "execution_count": 7,
      "outputs": [
        {
          "output_type": "stream",
          "name": "stdout",
          "text": [
            "Mata kuliah Mhs1 =  {'Algoritma', 'Bahasa Inggris', 'Matematika'}\n",
            "Mata kuliah Mhs2 =  {'Basis Data', 'Algoritma', 'Matematika'}\n",
            "Mata kuliah yang sama =  {'Matematika', 'Algoritma'}\n"
          ]
        }
      ]
    },
    {
      "cell_type": "markdown",
      "source": [
        "Praktikum 06 – Studi Kasus Dictionary: Daftar Nilai"
      ],
      "metadata": {
        "id": "wIXdoa0mtL1c"
      }
    },
    {
      "cell_type": "code",
      "source": [
        "nilai_mahasiswa = {\n",
        "    \"Andi\": 80,\n",
        "    \"Budi\": 75,\n",
        "    \"Cici\": 90\n",
        "}\n",
        "\n",
        "for nama, nilai in nilai_mahasiswa.items():\n",
        "  print(f\"{nama}: {nilai}\")\n",
        "\n",
        "rata = sum(nilai_mahasiswa.values()) / len(nilai_mahasiswa)\n",
        "print(f\"Dari {len(nilai_mahasiswa)} Mahasiswa tersebut memiliki rata-rata {rata:.2f}\")"
      ],
      "metadata": {
        "id": "0tr2QW_XtXAf",
        "outputId": "e270be17-1657-4092-dbd5-90129281697b",
        "colab": {
          "base_uri": "https://localhost:8080/"
        }
      },
      "execution_count": 9,
      "outputs": [
        {
          "output_type": "stream",
          "name": "stdout",
          "text": [
            "Andi: 80\n",
            "Budi: 75\n",
            "Cici: 90\n",
            "Dari 3 Mahasiswa tersebut memiliki rata-rata 81.67\n"
          ]
        }
      ]
    },
    {
      "cell_type": "code",
      "execution_count": null,
      "metadata": {
        "id": "wW6z28fSfX4O"
      },
      "outputs": [],
      "source": []
    }
  ]
}