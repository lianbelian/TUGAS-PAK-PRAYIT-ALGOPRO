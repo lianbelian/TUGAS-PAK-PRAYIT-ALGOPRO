{
  "nbformat": 4,
  "nbformat_minor": 0,
  "metadata": {
    "colab": {
      "provenance": [],
      "authorship_tag": "ABX9TyMhraUiOqTJa2kbQOsKUwRA",
      "include_colab_link": true
    },
    "kernelspec": {
      "name": "python3",
      "display_name": "Python 3"
    },
    "language_info": {
      "name": "python"
    }
  },
  "cells": [
    {
      "cell_type": "markdown",
      "metadata": {
        "id": "view-in-github",
        "colab_type": "text"
      },
      "source": [
        "<a href=\"https://colab.research.google.com/github/lianbelian/TUGAS-PAK-PRAYIT-ALGOPRO/blob/main/praktikum2.ipynb\" target=\"_parent\"><img src=\"https://colab.research.google.com/assets/colab-badge.svg\" alt=\"Open In Colab\"/></a>"
      ]
    },
    {
      "cell_type": "markdown",
      "source": [
        "Pengenalan Variabel dan Tipe Data"
      ],
      "metadata": {
        "id": "6yk_WWeExPzc"
      }
    },
    {
      "cell_type": "code",
      "source": [
        "# Integer\n",
        "umur = 20\n",
        "print(\"Umur:\", umur, \"→\", type(umur))\n",
        "\n",
        "# Float\n",
        "tinggi = 170.5\n",
        "print(\"Tinggi:\", tinggi, \"→\", type(tinggi))\n",
        "\n",
        "# String\n",
        "nama = \"Andi\"\n",
        "print(\"Nama:\", nama, \"→\", type(nama))\n",
        "\n",
        "# Boolean\n",
        "is_mahasiswa = True\n",
        "print(\"Status Mahasiswa:\", is_mahasiswa, \"→\", type(is_mahasiswa))\n",
        "\n",
        "# List\n",
        "nilai = [80, 85, 90]\n",
        "print(\"Nilai:\", nilai, \"→\", type(nilai))\n",
        "\n",
        "koordinat = (10, 20)\n",
        "print(\"Koordinat:\", koordinat, \"→\", type(koordinat))\n",
        "\n",
        "# Dictionary\n",
        "mahasiswa = {\"nama\": \"Andi\", \"umur\": 20, \"prodi\": \"TRK\"}\n",
        "print(\"Data Mahasiswa:\", mahasiswa, \"→\", type(mahasiswa))\n",
        "\n",
        "# Set\n",
        "hobi = {\"membaca\", \"olahraga\", \"musik\"}\n",
        "print(\"Hobi:\", hobi, \"→\", type(hobi))"
      ],
      "metadata": {
        "colab": {
          "base_uri": "https://localhost:8080/"
        },
        "id": "6QICXrt0xQqq",
        "outputId": "fd009520-53c3-4d24-c4db-d832daa309e7"
      },
      "execution_count": 1,
      "outputs": [
        {
          "output_type": "stream",
          "name": "stdout",
          "text": [
            "Umur: 20 → <class 'int'>\n",
            "Tinggi: 170.5 → <class 'float'>\n",
            "Nama: Andi → <class 'str'>\n",
            "Status Mahasiswa: True → <class 'bool'>\n",
            "Nilai: [80, 85, 90] → <class 'list'>\n",
            "Koordinat: (10, 20) → <class 'tuple'>\n",
            "Data Mahasiswa: {'nama': 'Andi', 'umur': 20, 'prodi': 'TRK'} → <class 'dict'>\n",
            "Hobi: {'membaca', 'olahraga', 'musik'} → <class 'set'>\n"
          ]
        }
      ]
    },
    {
      "cell_type": "markdown",
      "source": [
        "Input & Output Dasar (variasi format)"
      ],
      "metadata": {
        "id": "SXubbIyQyhPj"
      }
    },
    {
      "cell_type": "code",
      "source": [
        "# Input string\n",
        "nama = input(\"Masukkan nama anda = \")\n",
        "\n",
        "# Input integer\n",
        "umur = input(\"Masukkan umur anda = \")\n",
        "\n",
        "# Input float\n",
        "tinggi = input(\"Masukkan tinggi badan (cm) = \")\n",
        "\n",
        "# Output standar\n",
        "print(\"halo,\", nama, \"umur anda = \", umur, \"tahun, tinggi =\", tinggi, \"cm\")\n",
        "\n",
        "# Output dengan format()\n",
        "print(\"halo {0}, umur anda {1} tahun , tinggi {2} cm\".format(nama, umur, tinggi))\n",
        "\n",
        "# Output dengan f-string\n",
        "print(f\"halo {nama}, umur anda {umur} tahun, tinggi {tinggi} cm\" )\n",
        "\n",
        "\n"
      ],
      "metadata": {
        "id": "OEm0QYoBymZm",
        "outputId": "9550c28f-913e-4efa-bbb4-70e73cf7d2b2",
        "colab": {
          "base_uri": "https://localhost:8080/"
        }
      },
      "execution_count": 4,
      "outputs": [
        {
          "output_type": "stream",
          "name": "stdout",
          "text": [
            "Masukkan nama anda = lian\n",
            "Masukkan umur anda = 18\n",
            "Masukkan tinggi badan (cm) = 170\n",
            "halo, lian umur anda =  18 tahun, tinggi = 170 cm\n",
            "halo lian, umur anda 18 tahun , tinggi 170 cm\n",
            "halo lian, umur anda 18 tahun, tinggi 170 cm\n"
          ]
        }
      ]
    },
    {
      "cell_type": "markdown",
      "source": [
        "Operator Aritmatika"
      ],
      "metadata": {
        "id": "gswjCVTg41kZ"
      }
    },
    {
      "cell_type": "code",
      "source": [
        "a = 15\n",
        "b = 4\n",
        "\n",
        "print(\"a + b = \", a + b)\n",
        "print(\"a - b = \", a - b)\n",
        "print(\"a * b = \", a * b)\n",
        "print(\"a / b = \", a / b)\n",
        "print(\"a // b = \", a // b)\n",
        "print(\"a % b = \", a % b)\n",
        "print(\"a ** b = \", a ** b)\n",
        "print(\"Hasil program menunjukkan bahwa Python mampu melakukan perhitungan dasar dengan operator yang sederhana dan intuitif.\")"
      ],
      "metadata": {
        "id": "I3q59UQr47O5",
        "outputId": "12ebc05b-38d5-4631-9b14-ce5e5d808d65",
        "colab": {
          "base_uri": "https://localhost:8080/"
        }
      },
      "execution_count": 7,
      "outputs": [
        {
          "output_type": "stream",
          "name": "stdout",
          "text": [
            "a + b =  19\n",
            "a - b =  11\n",
            "a * b =  60\n",
            "a / b =  3.75\n",
            "a // b =  3\n",
            "a % b =  3\n",
            "a ** b =  50625\n",
            "Hasil program menunjukkan bahwa Python mampu melakukan perhitungan dasar dengan operator yang sederhana dan intuitif.\n"
          ]
        }
      ]
    },
    {
      "cell_type": "markdown",
      "source": [
        "Operator Relasional"
      ],
      "metadata": {
        "id": "41IMSLva6PFf"
      }
    },
    {
      "cell_type": "code",
      "source": [
        "x = 10\n",
        "y = 20\n",
        "\n",
        "print(\"x == y =\", x == y)\n",
        "print(\"x != y =\", x != y)\n",
        "print(\"x < y =\", x < y)\n",
        "print(\"x > y =\", x > y)\n",
        "print(\"x <= y =\", x <= y)\n",
        "print(\"x >= y =\", x >= y)\n",
        "print(\"Dalam kehidupan nyata, operator relasional bisa dipakai untuk mengecek apakah nilai ujian ≥ 60, atau apakah kehadiran mahasiswa memenuhi batas minimal.\")"
      ],
      "metadata": {
        "id": "Y7pIxCld6TE3",
        "outputId": "fccf9f39-c017-49cf-e32a-254acb038511",
        "colab": {
          "base_uri": "https://localhost:8080/"
        }
      },
      "execution_count": 8,
      "outputs": [
        {
          "output_type": "stream",
          "name": "stdout",
          "text": [
            "x == y = False\n",
            "x != y = True\n",
            "x < y = True\n",
            "x > y = False\n",
            "x <= y = True\n",
            "x >= y = False\n",
            "Dalam kehidupan nyata, operator relasional bisa dipakai untuk mengecek apakah nilai ujian ≥ 60, atau apakah kehadiran mahasiswa memenuhi batas minimal.\n"
          ]
        }
      ]
    },
    {
      "cell_type": "markdown",
      "source": [
        "Operator Logika (dasar + studi kasus kelulusan)"
      ],
      "metadata": {
        "id": "B5TnMZ9O8I7C"
      }
    },
    {
      "cell_type": "code",
      "source": [
        "# Operator logika dasar\n",
        "a = True\n",
        "b = False\n",
        "\n",
        "print(\"a and b =\", a and b)\n",
        "print(\"a or b =\", a or b)\n",
        "print(\"not a=\", not a)\n",
        "\n",
        "# Studi kasus nyata = kelulusan\n",
        "nilai = int(input(\"masukkan nilai ujian= \"))\n",
        "hadir = int(input(\"masukkan jumlah kehadiran= \"))\n",
        "\n",
        "lulus_nilai = nilai >= 60\n",
        "lulus_hadir = hadir >= 12 # dari 16 pertemuan\n",
        "\n",
        "if lulus_nilai and lulus_hadir:\n",
        "    print(\"status : LULUS\")\n",
        "else:\n",
        "    print(\"status : TIDAK LULUS\")\n"
      ],
      "metadata": {
        "id": "p7F-E6aB8QgE",
        "outputId": "d85cd8ae-1974-49a6-888d-91f6f76791dc",
        "colab": {
          "base_uri": "https://localhost:8080/"
        }
      },
      "execution_count": 14,
      "outputs": [
        {
          "output_type": "stream",
          "name": "stdout",
          "text": [
            "a and b = False\n",
            "a or b = True\n",
            "not a= False\n",
            "masukkan nilai ujian= 70\n",
            "masukkan jumlah kehadiran= 12\n",
            "status : LULUS\n"
          ]
        }
      ]
    },
    {
      "cell_type": "markdown",
      "source": [
        "Program Kasir Sederhana"
      ],
      "metadata": {
        "id": "fGmODf0e_jPW"
      }
    },
    {
      "cell_type": "code",
      "source": [
        "barang = input(\"masukkan nama barang= \")\n",
        "harga = float(input(\"masukkan harga barang= \"))\n",
        "jumlah = int(input(\"masukkan jumlah barang= \"))\n",
        "\n",
        "total = harga * jumlah\n",
        "\n",
        "# Aturan diskon\n",
        "if total >= 500000:\n",
        "  diskon = 0.2\n",
        "elif total >= 250000:\n",
        "  diskon = 0.1\n",
        "else:\n",
        "  diskon = 0\n",
        "\n",
        "potongan = total * diskon\n",
        "bayar = total - potongan\n",
        "\n",
        "print(\"\\n===== struk belanja =====\")\n",
        "print(f\"barang : {barang}\")\n",
        "print(f\"jumlah : {jumlah}\")\n",
        "print(f\"total : Rp {total}\")\n",
        "print(f\"diskon : {diskon * 100}%\")\n",
        "print(f\"bayar : Rp {bayar}\")"
      ],
      "metadata": {
        "id": "pyfgNnq9_mQl",
        "outputId": "c9912e1b-e14a-4150-e40c-ccf1659f9053",
        "colab": {
          "base_uri": "https://localhost:8080/"
        }
      },
      "execution_count": 16,
      "outputs": [
        {
          "output_type": "stream",
          "name": "stdout",
          "text": [
            "masukkan nama barang= sabun mandi cair 1,5 liter\n",
            "masukkan harga barang= 70000\n",
            "masukkan jumlah barang= 15\n",
            "\n",
            "===== struk belanja =====\n",
            "barang : sabun mandi cair 1,5 liter\n",
            "jumlah : 15\n",
            "total : Rp 1050000.0\n",
            "diskon : 20.0%\n",
            "bayar : Rp 840000.0\n"
          ]
        }
      ]
    }
  ]
}