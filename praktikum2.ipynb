{
  "nbformat": 4,
  "nbformat_minor": 0,
  "metadata": {
    "colab": {
      "provenance": [],
      "authorship_tag": "ABX9TyPn1eGT//qrRN6eNduonEVB",
      "include_colab_link": true
    },
    "kernelspec": {
      "name": "python3",
      "display_name": "Python 3"
    },
    "language_info": {
      "name": "python"
    }
  },
  "cells": [
    {
      "cell_type": "markdown",
      "metadata": {
        "id": "view-in-github",
        "colab_type": "text"
      },
      "source": [
        "<a href=\"https://colab.research.google.com/github/lianbelian/TUGAS-PAK-PRAYIT-ALGOPRO/blob/main/praktikum2.ipynb\" target=\"_parent\"><img src=\"https://colab.research.google.com/assets/colab-badge.svg\" alt=\"Open In Colab\"/></a>"
      ]
    },
    {
      "cell_type": "markdown",
      "source": [
        "Pengenalan Variabel dan Tipe Data"
      ],
      "metadata": {
        "id": "6yk_WWeExPzc"
      }
    },
    {
      "cell_type": "code",
      "source": [
        "# Integer\n",
        "umur = 20\n",
        "print(\"Umur:\", umur, \"→\", type(umur))\n",
        "\n",
        "# Float\n",
        "tinggi = 170.5\n",
        "print(\"Tinggi:\", tinggi, \"→\", type(tinggi))\n",
        "\n",
        "# String\n",
        "nama = \"Andi\"\n",
        "print(\"Nama:\", nama, \"→\", type(nama))\n",
        "\n",
        "# Boolean\n",
        "is_mahasiswa = True\n",
        "print(\"Status Mahasiswa:\", is_mahasiswa, \"→\", type(is_mahasiswa))\n",
        "\n",
        "# List\n",
        "nilai = [80, 85, 90]\n",
        "print(\"Nilai:\", nilai, \"→\", type(nilai))\n",
        "\n",
        "koordinat = (10, 20)\n",
        "print(\"Koordinat:\", koordinat, \"→\", type(koordinat))\n",
        "\n",
        "# Dictionary\n",
        "mahasiswa = {\"nama\": \"Andi\", \"umur\": 20, \"prodi\": \"TRK\"}\n",
        "print(\"Data Mahasiswa:\", mahasiswa, \"→\", type(mahasiswa))\n",
        "\n",
        "# Set\n",
        "hobi = {\"membaca\", \"olahraga\", \"musik\"}\n",
        "print(\"Hobi:\", hobi, \"→\", type(hobi))"
      ],
      "metadata": {
        "colab": {
          "base_uri": "https://localhost:8080/"
        },
        "id": "6QICXrt0xQqq",
        "outputId": "fd009520-53c3-4d24-c4db-d832daa309e7"
      },
      "execution_count": null,
      "outputs": [
        {
          "output_type": "stream",
          "name": "stdout",
          "text": [
            "Umur: 20 → <class 'int'>\n",
            "Tinggi: 170.5 → <class 'float'>\n",
            "Nama: Andi → <class 'str'>\n",
            "Status Mahasiswa: True → <class 'bool'>\n",
            "Nilai: [80, 85, 90] → <class 'list'>\n",
            "Koordinat: (10, 20) → <class 'tuple'>\n",
            "Data Mahasiswa: {'nama': 'Andi', 'umur': 20, 'prodi': 'TRK'} → <class 'dict'>\n",
            "Hobi: {'membaca', 'olahraga', 'musik'} → <class 'set'>\n"
          ]
        }
      ]
    },
    {
      "cell_type": "markdown",
      "source": [
        "Input & Output Dasar (variasi format)"
      ],
      "metadata": {
        "id": "SXubbIyQyhPj"
      }
    },
    {
      "cell_type": "code",
      "source": [
        "# Input string\n",
        "nama = input(\"Masukkan nama anda = \")\n",
        "\n",
        "# Input integer\n",
        "umur = input(\"Masukkan umur anda = \")\n",
        "\n",
        "# Input float\n",
        "tinggi = input(\"Masukkan tinggi badan (cm) = \")\n",
        "\n",
        "# Output standar\n",
        "print(\"halo,\", nama, \"umur anda = \", umur, \"tahun, tinggi =\", tinggi, \"cm\")\n",
        "\n",
        "# Output dengan format()\n",
        "print(\"halo {0}, umur anda {1} tahun , tinggi {2} cm\".format(nama, umur, tinggi))\n",
        "\n",
        "# Output dengan f-string\n",
        "print(f\"halo {nama}, umur anda {umur} tahun, tinggi {tinggi} cm\" )\n",
        "\n",
        "\n"
      ],
      "metadata": {
        "id": "OEm0QYoBymZm",
        "outputId": "9550c28f-913e-4efa-bbb4-70e73cf7d2b2",
        "colab": {
          "base_uri": "https://localhost:8080/"
        }
      },
      "execution_count": null,
      "outputs": [
        {
          "output_type": "stream",
          "name": "stdout",
          "text": [
            "Masukkan nama anda = lian\n",
            "Masukkan umur anda = 18\n",
            "Masukkan tinggi badan (cm) = 170\n",
            "halo, lian umur anda =  18 tahun, tinggi = 170 cm\n",
            "halo lian, umur anda 18 tahun , tinggi 170 cm\n",
            "halo lian, umur anda 18 tahun, tinggi 170 cm\n"
          ]
        }
      ]
    },
    {
      "cell_type": "markdown",
      "source": [
        "Operator Aritmatika"
      ],
      "metadata": {
        "id": "gswjCVTg41kZ"
      }
    },
    {
      "cell_type": "code",
      "source": [
        "a = 15\n",
        "b = 4\n",
        "\n",
        "print(\"a + b = \", a + b)\n",
        "print(\"a - b = \", a - b)\n",
        "print(\"a * b = \", a * b)\n",
        "print(\"a / b = \", a / b)\n",
        "print(\"a // b = \", a // b)\n",
        "print(\"a % b = \", a % b)\n",
        "print(\"a ** b = \", a ** b)\n",
        "print(\"Hasil program menunjukkan bahwa Python mampu melakukan perhitungan dasar dengan operator yang sederhana dan intuitif.\")"
      ],
      "metadata": {
        "id": "I3q59UQr47O5",
        "outputId": "12ebc05b-38d5-4631-9b14-ce5e5d808d65",
        "colab": {
          "base_uri": "https://localhost:8080/"
        }
      },
      "execution_count": null,
      "outputs": [
        {
          "output_type": "stream",
          "name": "stdout",
          "text": [
            "a + b =  19\n",
            "a - b =  11\n",
            "a * b =  60\n",
            "a / b =  3.75\n",
            "a // b =  3\n",
            "a % b =  3\n",
            "a ** b =  50625\n",
            "Hasil program menunjukkan bahwa Python mampu melakukan perhitungan dasar dengan operator yang sederhana dan intuitif.\n"
          ]
        }
      ]
    },
    {
      "cell_type": "markdown",
      "source": [
        "Operator Relasional"
      ],
      "metadata": {
        "id": "41IMSLva6PFf"
      }
    },
    {
      "cell_type": "code",
      "source": [
        "x = 10\n",
        "y = 20\n",
        "\n",
        "print(\"x == y =\", x == y)\n",
        "print(\"x != y =\", x != y)\n",
        "print(\"x < y =\", x < y)\n",
        "print(\"x > y =\", x > y)\n",
        "print(\"x <= y =\", x <= y)\n",
        "print(\"x >= y =\", x >= y)\n",
        "print(\"Dalam kehidupan nyata, operator relasional bisa dipakai untuk mengecek apakah nilai ujian ≥ 60, atau apakah kehadiran mahasiswa memenuhi batas minimal.\")"
      ],
      "metadata": {
        "id": "Y7pIxCld6TE3",
        "outputId": "fccf9f39-c017-49cf-e32a-254acb038511",
        "colab": {
          "base_uri": "https://localhost:8080/"
        }
      },
      "execution_count": null,
      "outputs": [
        {
          "output_type": "stream",
          "name": "stdout",
          "text": [
            "x == y = False\n",
            "x != y = True\n",
            "x < y = True\n",
            "x > y = False\n",
            "x <= y = True\n",
            "x >= y = False\n",
            "Dalam kehidupan nyata, operator relasional bisa dipakai untuk mengecek apakah nilai ujian ≥ 60, atau apakah kehadiran mahasiswa memenuhi batas minimal.\n"
          ]
        }
      ]
    },
    {
      "cell_type": "markdown",
      "source": [
        "Operator Logika (dasar + studi kasus kelulusan)"
      ],
      "metadata": {
        "id": "B5TnMZ9O8I7C"
      }
    },
    {
      "cell_type": "code",
      "source": [
        "# Operator logika dasar\n",
        "a = True\n",
        "b = False\n",
        "\n",
        "print(\"a and b =\", a and b)\n",
        "print(\"a or b =\", a or b)\n",
        "print(\"not a=\", not a)\n",
        "\n",
        "# Studi kasus nyata = kelulusan\n",
        "nilai = int(input(\"masukkan nilai ujian= \"))\n",
        "hadir = int(input(\"masukkan jumlah kehadiran= \"))\n",
        "\n",
        "lulus_nilai = nilai >= 60\n",
        "lulus_hadir = hadir >= 12 # dari 16 pertemuan\n",
        "\n",
        "if lulus_nilai and lulus_hadir:\n",
        "    print(\"status : LULUS\")\n",
        "else:\n",
        "    print(\"status : TIDAK LULUS\")\n"
      ],
      "metadata": {
        "id": "p7F-E6aB8QgE",
        "outputId": "d85cd8ae-1974-49a6-888d-91f6f76791dc",
        "colab": {
          "base_uri": "https://localhost:8080/"
        }
      },
      "execution_count": null,
      "outputs": [
        {
          "output_type": "stream",
          "name": "stdout",
          "text": [
            "a and b = False\n",
            "a or b = True\n",
            "not a= False\n",
            "masukkan nilai ujian= 70\n",
            "masukkan jumlah kehadiran= 12\n",
            "status : LULUS\n"
          ]
        }
      ]
    },
    {
      "cell_type": "markdown",
      "source": [
        "Program Kasir Sederhana"
      ],
      "metadata": {
        "id": "fGmODf0e_jPW"
      }
    },
    {
      "cell_type": "code",
      "source": [
        "barang = input(\"masukkan nama barang= \")\n",
        "harga = float(input(\"masukkan harga barang= \"))\n",
        "jumlah = int(input(\"masukkan jumlah barang= \"))\n",
        "\n",
        "total = harga * jumlah\n",
        "\n",
        "# Aturan diskon\n",
        "if total >= 500000:\n",
        "  diskon = 0.2\n",
        "elif total >= 250000:\n",
        "  diskon = 0.1\n",
        "else:\n",
        "  diskon = 0\n",
        "\n",
        "potongan = total * diskon\n",
        "bayar = total - potongan\n",
        "\n",
        "print(\"\\n===== struk belanja =====\")\n",
        "print(f\"barang : {barang}\")\n",
        "print(f\"jumlah : {jumlah}\")\n",
        "print(f\"total : Rp {total}\")\n",
        "print(f\"diskon : {diskon * 100}%\")\n",
        "print(f\"bayar : Rp {bayar}\")"
      ],
      "metadata": {
        "id": "pyfgNnq9_mQl",
        "outputId": "c9912e1b-e14a-4150-e40c-ccf1659f9053",
        "colab": {
          "base_uri": "https://localhost:8080/"
        }
      },
      "execution_count": null,
      "outputs": [
        {
          "output_type": "stream",
          "name": "stdout",
          "text": [
            "masukkan nama barang= sabun mandi cair 1,5 liter\n",
            "masukkan harga barang= 70000\n",
            "masukkan jumlah barang= 15\n",
            "\n",
            "===== struk belanja =====\n",
            "barang : sabun mandi cair 1,5 liter\n",
            "jumlah : 15\n",
            "total : Rp 1050000.0\n",
            "diskon : 20.0%\n",
            "bayar : Rp 840000.0\n"
          ]
        }
      ]
    },
    {
      "cell_type": "markdown",
      "source": [
        "**PENUGASAN**"
      ],
      "metadata": {
        "id": "ILYJH_wNEZCC"
      }
    },
    {
      "cell_type": "markdown",
      "source": [
        "Identitas Mahasiswa"
      ],
      "metadata": {
        "id": "yvj4_wyWEcNO"
      }
    },
    {
      "cell_type": "code",
      "source": [
        "nama = input(\"masukkan nama anda = \")\n",
        "umur = int(input(\"masukkan umur anda = \"))\n",
        "tinggi = float(input(\"masukkan tinggi anda (cm) = \"))\n",
        "status_in= input(\"apakah anda mahasisa akti? (yes/no) = \")\n",
        "\n",
        "status = \"aktif\" if status_in.lower() == \"yes\" else \"tidak aktif\"\n",
        "\n",
        "print(\"\")\n",
        "print(f\"Selamat datang {nama} \\nUmur anda adalah {umur} tahun \\nTinggi anda adalah {tinggi} cm \\nStatus anda {status} \")"
      ],
      "metadata": {
        "id": "BYqQcIWMEp68",
        "outputId": "46097d70-9652-4147-b5a9-3170371d7725",
        "colab": {
          "base_uri": "https://localhost:8080/"
        }
      },
      "execution_count": 5,
      "outputs": [
        {
          "output_type": "stream",
          "name": "stdout",
          "text": [
            "masukkan nama anda = lian\n",
            "masukkan umur anda = 18\n",
            "masukkan tinggi anda (cm) = 170\n",
            "apakah anda mahasisa akti? (yes/no) = yes\n",
            "\n",
            "Selamat datang lian \n",
            "Umur anda adalah 18 tahun \n",
            "Tinggi anda adalah 170.0 cm \n",
            "Status anda aktif \n"
          ]
        }
      ]
    },
    {
      "cell_type": "markdown",
      "source": [
        "Operasi Aritmatika"
      ],
      "metadata": {
        "id": "nPZ2bNmOJZLz"
      }
    },
    {
      "cell_type": "code",
      "source": [
        "a = (int(input(\"masukkan nilai a = \")))\n",
        "b = (int(input(\"masukkan  nilai b =\")))\n",
        "\n",
        "print(a, \"+\", b, \"=\", a + b)\n",
        "print(a, \"-\", b, \"=\", a - b)\n",
        "print(a, \"*\", b, \"=\", a * b)\n",
        "print(a, \"/\", b, \"=\", a / b)\n",
        "print(a, \"%\", b, \"=\", a % b)\n",
        "print(a, \"**\", b, \"=\", a ** b)"
      ],
      "metadata": {
        "id": "D9YTz3p7Jghh",
        "outputId": "c3141ab7-d8a4-4402-f7fe-3e726537daaf",
        "colab": {
          "base_uri": "https://localhost:8080/"
        }
      },
      "execution_count": 7,
      "outputs": [
        {
          "output_type": "stream",
          "name": "stdout",
          "text": [
            "masukkan nilai a = 20\n",
            "masukkan  nilai b =7\n",
            "20 + 7 = 27\n",
            "20 - 7 = 13\n",
            "20 * 7 = 140\n",
            "20 / 7 = 2.857142857142857\n",
            "20 % 7 = 6\n",
            "20 ** 7 = 1280000000\n"
          ]
        }
      ]
    },
    {
      "cell_type": "markdown",
      "source": [
        "Konversi Nilai"
      ],
      "metadata": {
        "id": "acW2u_uTLrwi"
      }
    },
    {
      "cell_type": "code",
      "source": [
        "angka = float(input(\"masukkan angka anda = \"))\n",
        "print(\"\")\n",
        "\n",
        "a = int(angka)\n",
        "b = str(angka)\n",
        "c = round(angka, 2)\n",
        "\n",
        "print(f\"bentuk integer dari {angka} adalah {a}\")\n",
        "print(f\"bentuk string dari {angka} adalah {b}\")\n",
        "print(f\"bentuk pembulatan 2 digit di belakang koma dari {angka} adalah {c}\")"
      ],
      "metadata": {
        "id": "wqIZApQyLyHg",
        "outputId": "60e8c15d-cc76-4bde-dcf2-ea33f4dd3cc5",
        "colab": {
          "base_uri": "https://localhost:8080/"
        }
      },
      "execution_count": 9,
      "outputs": [
        {
          "output_type": "stream",
          "name": "stdout",
          "text": [
            "masukkan angka anda = 10.32478\n",
            "\n",
            "bentuk integer dari 10.32478 adalah 10\n",
            "bentuk string dari 10.32478 adalah 10.32478\n",
            "bentuk pembulatan 2 digit di belakang koma dari 10.32478 adalah 10.32\n"
          ]
        }
      ]
    },
    {
      "cell_type": "markdown",
      "source": [
        "Operator Relasional"
      ],
      "metadata": {
        "id": "EBsHkilMOR0y"
      }
    },
    {
      "cell_type": "code",
      "source": [
        "a = float(input(\"masukkan angka pertama = \"))\n",
        "b = float(input(\"masukkan angka kedua = \"))\n",
        "print(\"\")\n",
        "print(\"a == b : \", a == b)\n",
        "print(\"a != b : \", a != b)\n",
        "print(\"a < b : \", a < b)\n",
        "print(\"a > b : \", a > b)\n",
        "print(\"a <= b 5: \", a <= b)\n",
        "print(\"a >= b : \", a >= b)\n",
        "\n"
      ],
      "metadata": {
        "id": "k-bxE7iEN-Ht",
        "outputId": "ffea173a-183e-4694-9a41-3925c2dee7ee",
        "colab": {
          "base_uri": "https://localhost:8080/"
        }
      },
      "execution_count": 11,
      "outputs": [
        {
          "output_type": "stream",
          "name": "stdout",
          "text": [
            "masukkan angka pertama = 8\n",
            "masukkan angka kedua = 5\n",
            "\n",
            "a == b :  False\n",
            "a != b :  True\n",
            "a < b :  False\n",
            "a > b :  True\n",
            "a <= b :  False\n",
            "a >= b :  True\n"
          ]
        }
      ]
    },
    {
      "cell_type": "code",
      "source": [],
      "metadata": {
        "id": "TBOISK0YQ3be"
      },
      "execution_count": null,
      "outputs": []
    }
  ]
}