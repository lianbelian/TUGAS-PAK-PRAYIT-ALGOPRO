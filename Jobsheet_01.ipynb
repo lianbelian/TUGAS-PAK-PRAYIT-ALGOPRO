{
  "nbformat": 4,
  "nbformat_minor": 0,
  "metadata": {
    "colab": {
      "provenance": [],
      "authorship_tag": "ABX9TyNv3We03hyj3+IyQkNa1vAM",
      "include_colab_link": true
    },
    "kernelspec": {
      "name": "python3",
      "display_name": "Python 3"
    },
    "language_info": {
      "name": "python"
    }
  },
  "cells": [
    {
      "cell_type": "markdown",
      "metadata": {
        "id": "view-in-github",
        "colab_type": "text"
      },
      "source": [
        "<a href=\"https://colab.research.google.com/github/lianbelian/TUGAS-PAK-PRAYIT-ALGOPRO/blob/main/Jobsheet_01.ipynb\" target=\"_parent\"><img src=\"https://colab.research.google.com/assets/colab-badge.svg\" alt=\"Open In Colab\"/></a>"
      ]
    },
    {
      "cell_type": "markdown",
      "source": [
        "Menghitung Luas Persegi Panjang"
      ],
      "metadata": {
        "id": "a9qxZfNq20s8"
      }
    },
    {
      "cell_type": "code",
      "source": [
        "p = int (input(\"Masukkan panjang: \"))\n",
        "i = int (input(\"Masukkan lebar: \"))\n",
        "luas = p*i\n",
        "print(\"Luas persegi panjang =\", luas)"
      ],
      "metadata": {
        "colab": {
          "base_uri": "https://localhost:8080/"
        },
        "id": "wUUcq38D6QJj",
        "outputId": "a3488fd2-d5a1-4381-e6a2-fbd4aa9e3e63"
      },
      "execution_count": 2,
      "outputs": [
        {
          "output_type": "stream",
          "name": "stdout",
          "text": [
            "Masukkan panjang: 6\n",
            "Masukkan lebar: 4\n",
            "Luas persegi panjang = 24\n"
          ]
        }
      ]
    },
    {
      "cell_type": "markdown",
      "source": [
        "Menghitung Luas Segitiga"
      ],
      "metadata": {
        "id": "OLCI254n7LJf"
      }
    },
    {
      "cell_type": "code",
      "source": [
        "import math\n",
        "\n",
        "a = float(input(\"Masukkan sisi a: \"))\n",
        "b = float(input(\"Masukkan sisi b: \"))\n",
        "c = float(input(\"Masukkan sisi c: \"))\n",
        "\n",
        "s = (a + b + c) / 2\n",
        "luas = math.sqrt(s * (s-a) * (s-b) * (s-c))\n",
        "print(\"Luas segitiga =\", luas)\n"
      ],
      "metadata": {
        "colab": {
          "base_uri": "https://localhost:8080/"
        },
        "id": "A0XCEEF37O6H",
        "outputId": "9771e742-1df0-48cd-e3dd-aa71f1597902"
      },
      "execution_count": 5,
      "outputs": [
        {
          "output_type": "stream",
          "name": "stdout",
          "text": [
            "Masukkan sisi a: 6\n",
            "Masukkan sisi b: 6\n",
            "Masukkan sisi c: 4\n",
            "Luas segitiga = 11.313708498984761\n"
          ]
        }
      ]
    },
    {
      "cell_type": "markdown",
      "source": [
        "Konversi Suhu Celcius ke Fahrenheit"
      ],
      "metadata": {
        "id": "9x1KyQWW9bu_"
      }
    },
    {
      "cell_type": "code",
      "source": [
        "c = float(input(\"Masukkan suhu (*C): \"))\n",
        "f = (c * 9/5) + 32\n",
        "print(\"Luas konversi =\", f, \"*F\")"
      ],
      "metadata": {
        "colab": {
          "base_uri": "https://localhost:8080/"
        },
        "id": "8P-_PlnD9g97",
        "outputId": "f500ccb7-bead-4cec-9ada-408cc0492718"
      },
      "execution_count": 6,
      "outputs": [
        {
          "output_type": "stream",
          "name": "stdout",
          "text": [
            "Masukkan suhu (*C): 18\n",
            "Luas konversi = 64.4 *F\n"
          ]
        }
      ]
    },
    {
      "cell_type": "markdown",
      "source": [
        "Menghitung Umur Berdasarkan Tahun Lahir"
      ],
      "metadata": {
        "id": "h8wiI-LD_u_A"
      }
    },
    {
      "cell_type": "code",
      "source": [
        "Tahun_lahir = int(input(\"Masukkan tahun lahir: \"))\n",
        "Tahun_sekarang = 2025\n",
        "Umur = Tahun_sekarang - Tahun_lahir\n",
        "print(\"Umur anda: \", Umur, \"Tahun\")"
      ],
      "metadata": {
        "colab": {
          "base_uri": "https://localhost:8080/"
        },
        "id": "f4E_OCL__zrw",
        "outputId": "b6c3fc7c-0212-4827-dc74-f556488d0054"
      },
      "execution_count": 7,
      "outputs": [
        {
          "output_type": "stream",
          "name": "stdout",
          "text": [
            "Masukkan tahun lahir: 2007\n",
            "Umur anda:  18 Tahun\n"
          ]
        }
      ]
    },
    {
      "cell_type": "markdown",
      "source": [
        "Menghitung Luas Lingkaran"
      ],
      "metadata": {
        "id": "sp-i9yedBibV"
      }
    },
    {
      "cell_type": "code",
      "source": [
        "import math\n",
        "r = float(input(\"Masukkan jari-jari lingkaran= \"))\n",
        "luas = math.pi * r * r\n",
        "print(\"Luas lingkaran= \", luas)\n"
      ],
      "metadata": {
        "colab": {
          "base_uri": "https://localhost:8080/"
        },
        "id": "ThswNNG5BjTO",
        "outputId": "2defd8b7-7ddc-461e-a0cc-119ac1fc0549"
      },
      "execution_count": 10,
      "outputs": [
        {
          "output_type": "stream",
          "name": "stdout",
          "text": [
            "Masukkan jari-jari lingkaran= 7\n",
            "Luas lingkaran=  153.93804002589985\n"
          ]
        }
      ]
    },
    {
      "cell_type": "markdown",
      "source": [
        "Menjumlahkan Tiga Bilangan"
      ],
      "metadata": {
        "id": "TD3zRQLpCzYr"
      }
    },
    {
      "cell_type": "code",
      "source": [
        "a = int(input(\"Masukkan bilangan pertama: \"))\n",
        "b = int(input(\"Masukkan bilangan kedua: \"))\n",
        "c = int(input(\"Masukkan bilangan ketiga: \"))\n",
        "jumlah = a + b + c\n",
        "print(\"Jumlah\", jumlah)\n"
      ],
      "metadata": {
        "colab": {
          "base_uri": "https://localhost:8080/"
        },
        "id": "G2mmaqf7C0WA",
        "outputId": "253a4a4f-0127-4c61-8425-a8d776d18647"
      },
      "execution_count": 12,
      "outputs": [
        {
          "output_type": "stream",
          "name": "stdout",
          "text": [
            "Masukkan bilangan pertama: 4\n",
            "Masukkan bilangan kedua: 6\n",
            "Masukkan bilangan ketiga: 8\n",
            "Jumlah 18\n"
          ]
        }
      ]
    },
    {
      "cell_type": "code",
      "source": [],
      "metadata": {
        "id": "_kYaK1OIDgOx"
      },
      "execution_count": null,
      "outputs": []
    }
  ]
}