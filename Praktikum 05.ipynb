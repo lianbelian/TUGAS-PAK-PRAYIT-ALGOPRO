{
  "nbformat": 4,
  "nbformat_minor": 0,
  "metadata": {
    "colab": {
      "provenance": [],
      "authorship_tag": "ABX9TyOhCB3AKaWYwp0RQgGHDLbG",
      "include_colab_link": true
    },
    "kernelspec": {
      "name": "python3",
      "display_name": "Python 3"
    },
    "language_info": {
      "name": "python"
    }
  },
  "cells": [
    {
      "cell_type": "markdown",
      "metadata": {
        "id": "view-in-github",
        "colab_type": "text"
      },
      "source": [
        "<a href=\"https://colab.research.google.com/github/lianbelian/TUGAS-PAK-PRAYIT-ALGOPRO/blob/main/Praktikum%2005.ipynb\" target=\"_parent\"><img src=\"https://colab.research.google.com/assets/colab-badge.svg\" alt=\"Open In Colab\"/></a>"
      ]
    },
    {
      "cell_type": "markdown",
      "source": [
        "- Indexing dan Slicing"
      ],
      "metadata": {
        "id": "-lx91T4rv2Xm"
      }
    },
    {
      "cell_type": "code",
      "source": [
        "teks = \"POLITEKNIK NEGERI SEMARANG\"\n",
        "print(teks[0])      #\"P\"\n",
        "print(teks[0:11])   #\"POLITEKNIK\"\n",
        "print(teks[-8:])    #\"SEMARANG\""
      ],
      "metadata": {
        "colab": {
          "base_uri": "https://localhost:8080/"
        },
        "id": "3B4vRaZDv7wh",
        "outputId": "a035afd2-b59c-405a-f50b-2ef80af597e3"
      },
      "execution_count": 2,
      "outputs": [
        {
          "output_type": "stream",
          "name": "stdout",
          "text": [
            "P\n",
            "POLITEKNIK \n",
            "SEMARANG\n"
          ]
        }
      ]
    },
    {
      "cell_type": "markdown",
      "source": [
        "- Method Bawaan String"
      ],
      "metadata": {
        "id": "nIzP1Kx14f0B"
      }
    },
    {
      "cell_type": "code",
      "source": [
        "teks = \"POLITEKNIK NEGERI SEMARANG\"\n",
        "print(teks.upper())\n",
        "print(teks.lower())\n",
        "print(teks.title())\n",
        "print(teks.strip())\n",
        "print(teks.split(\" \"))\n",
        "print(\"-\".join([\"POLITEKNIK\", \"NEGERI\", \"SEMARANG\"]))\n",
        "\n"
      ],
      "metadata": {
        "colab": {
          "base_uri": "https://localhost:8080/"
        },
        "id": "bsA2OQW25HAB",
        "outputId": "b2886d6d-ebd6-4bce-e04d-3ff211f92bc6"
      },
      "execution_count": 5,
      "outputs": [
        {
          "output_type": "stream",
          "name": "stdout",
          "text": [
            "POLITEKNIK NEGERI SEMARANG\n",
            "politeknik negeri semarang\n",
            "Politeknik Negeri Semarang\n",
            "POLITEKNIK NEGERI SEMARANG\n",
            "['POLITEKNIK', 'NEGERI', 'SEMARANG']\n",
            "POLITEKNIK-NEGERI-SEMARANG\n"
          ]
        }
      ]
    },
    {
      "cell_type": "markdown",
      "source": [
        "- Validasi Password"
      ],
      "metadata": {
        "id": "_MkpRITR4l6F"
      }
    },
    {
      "cell_type": "code",
      "source": [
        "password = input(\"masukkan password: \")\n",
        "\n",
        "if len(password) >= 8:\n",
        "    print(\"password valid\")\n",
        "else:\n",
        "    print(\"password tidak valid\")"
      ],
      "metadata": {
        "colab": {
          "base_uri": "https://localhost:8080/"
        },
        "id": "sFOtO_8t6vFS",
        "outputId": "6cbc8d74-4f04-41aa-fdd5-911c4c9fdec5"
      },
      "execution_count": 10,
      "outputs": [
        {
          "output_type": "stream",
          "name": "stdout",
          "text": [
            "masukkan password: python123\n",
            "password valid\n"
          ]
        }
      ]
    },
    {
      "cell_type": "markdown",
      "source": [
        "- Validasi Password"
      ],
      "metadata": {
        "id": "xyaaexQO9R-Y"
      }
    },
    {
      "cell_type": "code",
      "source": [
        "password = input(\"masukkan password: \")\n",
        "\n",
        "if len(password) >= 8:\n",
        "    print(\"password valid\")\n",
        "else:\n",
        "    print(\"password tidak valid\")"
      ],
      "metadata": {
        "colab": {
          "base_uri": "https://localhost:8080/"
        },
        "id": "BLuB2ARp9Vd7",
        "outputId": "bb8fc89f-5f83-4dd8-d155-7f76bcd1e30a"
      },
      "execution_count": 11,
      "outputs": [
        {
          "output_type": "stream",
          "name": "stdout",
          "text": [
            "masukkan password: abc\n",
            "password tidak valid\n"
          ]
        }
      ]
    },
    {
      "cell_type": "markdown",
      "source": [
        "- String Formatting dengan f-String"
      ],
      "metadata": {
        "id": "UaZBTP5P4orm"
      }
    },
    {
      "cell_type": "code",
      "source": [
        "nama = input(\"masukkan nama = \")\n",
        "umur = int(input(\"masukkan ummur = \"))\n",
        "\n",
        "print(f\"nama saya {nama}, umur saya {umur} tahun.\")"
      ],
      "metadata": {
        "colab": {
          "base_uri": "https://localhost:8080/"
        },
        "id": "V79BVEh17ikD",
        "outputId": "bcb4122f-0012-42df-d69c-48fe8682c201"
      },
      "execution_count": 12,
      "outputs": [
        {
          "output_type": "stream",
          "name": "stdout",
          "text": [
            "masukkan nama = budi\n",
            "masukkan ummur = 21\n",
            "nama saya budi, umur saya 21 tahun.\n"
          ]
        }
      ]
    },
    {
      "cell_type": "markdown",
      "source": [
        "- Operasi dalam F-String"
      ],
      "metadata": {
        "id": "Noh_oo0O43Up"
      }
    },
    {
      "cell_type": "code",
      "source": [
        "a = int(input(\"masukkan nilai a = \"))\n",
        "b = int(input(\"masukkan nilai b = \"))\n",
        "\n",
        "print(f\"hasil penjumlahan {a} + {b} adalah {a + b}\")\n",
        "print(f\"hasil penjumlahan {a} / {b} adalah {a / b}\")\n"
      ],
      "metadata": {
        "colab": {
          "base_uri": "https://localhost:8080/"
        },
        "id": "xYxPNree7-mM",
        "outputId": "84f6e22f-7be8-48da-dade-d4f3e60dc3e9"
      },
      "execution_count": 13,
      "outputs": [
        {
          "output_type": "stream",
          "name": "stdout",
          "text": [
            "masukkan nilai a = 10\n",
            "masukkan nilai b = 3\n",
            "hasil penjumlahan 10 + 3 adalah 13\n",
            "hasil penjumlahan 10 / 3 adalah 3.3333333333333335\n"
          ]
        }
      ]
    },
    {
      "cell_type": "markdown",
      "source": [
        "- Casting String"
      ],
      "metadata": {
        "id": "M89v5caX4_PJ"
      }
    },
    {
      "cell_type": "code",
      "source": [
        "angka = 123\n",
        "teks = \"456\"\n",
        "\n",
        "print(\"nilai = \" + str(angka))\n",
        "print(int(teks) + 10)"
      ],
      "metadata": {
        "colab": {
          "base_uri": "https://localhost:8080/"
        },
        "id": "8L8G9y9r9sfd",
        "outputId": "fc191438-df39-44e5-eaa2-6d049052cde5"
      },
      "execution_count": 14,
      "outputs": [
        {
          "output_type": "stream",
          "name": "stdout",
          "text": [
            "nilai = 123\n",
            "466\n"
          ]
        }
      ]
    },
    {
      "cell_type": "markdown",
      "source": [
        "- Studi Kasus Nyata: Analisis Kalimat"
      ],
      "metadata": {
        "id": "h1Nog7eA5CTT"
      }
    },
    {
      "cell_type": "code",
      "source": [
        "kalimat = \"saya kuliah di POLITEKNIK NEGERI SEMARANG\"\n",
        "daftar_kata = kalimat.split(\" \")\n",
        "\n",
        "print(f\"jumlah kata = {len(daftar_kata)}\")\n",
        "for i, kata in enumerate(daftar_kata, start=1) :\n",
        "    print(i, kata)"
      ],
      "metadata": {
        "colab": {
          "base_uri": "https://localhost:8080/"
        },
        "id": "M7lnYp0I-HS1",
        "outputId": "5290b437-227e-4efa-975c-212c5b0629c1"
      },
      "execution_count": 15,
      "outputs": [
        {
          "output_type": "stream",
          "name": "stdout",
          "text": [
            "jumlah kata = 6\n",
            "1 saya\n",
            "2 kuliah\n",
            "3 di\n",
            "4 POLITEKNIK\n",
            "5 NEGERI\n",
            "6 SEMARANG\n"
          ]
        }
      ]
    },
    {
      "cell_type": "markdown",
      "source": [
        "**PENUGASAN**"
      ],
      "metadata": {
        "id": "sTrfg8rO_Xl1"
      }
    },
    {
      "cell_type": "markdown",
      "source": [
        "- Indexing dan Slicing"
      ],
      "metadata": {
        "id": "EGKAdW5q_aFF"
      }
    },
    {
      "cell_type": "code",
      "source": [
        "teks = \"POLITEKNIK NEGERI SEMARANG\"\n",
        "print(teks[0])      #\"P\"\n",
        "print(teks[-1:])    #\"G\"\n",
        "print(teks[11:17])  #\"NEGERI\""
      ],
      "metadata": {
        "colab": {
          "base_uri": "https://localhost:8080/"
        },
        "id": "vX6R_gGl_1O1",
        "outputId": "e2d8673d-c246-4036-e6d7-a93c9947766e"
      },
      "execution_count": 16,
      "outputs": [
        {
          "output_type": "stream",
          "name": "stdout",
          "text": [
            "P\n",
            "G\n",
            "NEGERI\n"
          ]
        }
      ]
    },
    {
      "cell_type": "markdown",
      "source": [
        "- Manipulasi String"
      ],
      "metadata": {
        "id": "vai_xpfPAJ7w"
      }
    },
    {
      "cell_type": "code",
      "source": [
        "teks = input(\"masukkan kata = \")\n",
        "\n",
        "print(teks.upper())\n",
        "print(teks.lower())\n",
        "print(len(teks))\n"
      ],
      "metadata": {
        "colab": {
          "base_uri": "https://localhost:8080/"
        },
        "id": "wRHaAXXqAM8B",
        "outputId": "22838b4c-adb4-482a-df0e-a46f053223c7"
      },
      "execution_count": 17,
      "outputs": [
        {
          "output_type": "stream",
          "name": "stdout",
          "text": [
            "masukkan kata = baju\n",
            "BAJU\n",
            "baju\n",
            "4\n"
          ]
        }
      ]
    },
    {
      "cell_type": "markdown",
      "source": [
        "- Validasi Username"
      ],
      "metadata": {
        "id": "nuRpxkVjA1fG"
      }
    },
    {
      "cell_type": "code",
      "source": [
        "username = input(\"masukkan username: \")\n",
        "\n",
        "if \" \" in username:\n",
        "    print(\"error\")\n",
        "else:\n",
        "    print(\"username valid\")"
      ],
      "metadata": {
        "colab": {
          "base_uri": "https://localhost:8080/"
        },
        "id": "D683B3mJA8v-",
        "outputId": "6038d23d-c516-4b42-871c-6eb8978a6586"
      },
      "execution_count": 18,
      "outputs": [
        {
          "output_type": "stream",
          "name": "stdout",
          "text": [
            "masukkan username: PRANAJABELIAN\n",
            "username valid\n"
          ]
        }
      ]
    },
    {
      "cell_type": "markdown",
      "source": [
        "- String Formatting dengan F-String"
      ],
      "metadata": {
        "id": "5nbq_EF5Bbtz"
      }
    },
    {
      "cell_type": "code",
      "source": [
        "nama = input(\"masukkan nama = \")\n",
        "umur = int(input(\"masukkan ummur = \"))\n",
        "jurusan = input(\"masukkan jurusanmu = \")\n",
        "\n",
        "print(\"===================\")\n",
        "print(f\"Nama : {nama}\")\n",
        "print(f\"Umur : {umur}\")\n",
        "print(f\"Jurusan : {jurusan}\")"
      ],
      "metadata": {
        "colab": {
          "base_uri": "https://localhost:8080/"
        },
        "id": "h4mndqJlBeuz",
        "outputId": "8ecf5a7e-1162-4838-d062-4052c4c6f345"
      },
      "execution_count": 20,
      "outputs": [
        {
          "output_type": "stream",
          "name": "stdout",
          "text": [
            "masukkan nama = Andi\n",
            "masukkan ummur = 20\n",
            "masukkan jurusanmu = Teknologi Rekayasa Komputer\n",
            "===================\n",
            "Nama : Andi\n",
            "Umur : 20\n",
            "Jurusan : Teknologi Rekayasa Komputer\n"
          ]
        }
      ]
    },
    {
      "cell_type": "markdown",
      "source": [
        "- Operasi dalam F-String"
      ],
      "metadata": {
        "id": "v5QfklACCaof"
      }
    },
    {
      "cell_type": "code",
      "source": [
        "a = int(input(\"masukkan nilai a = \"))\n",
        "b = int(input(\"masukkan nilai b = \"))\n",
        "\n",
        "print(f\"hasil penjumlahan {a} + {b} adalah {a + b}\")\n",
        "print(f\"hasil penjumlahan {a} * {b} adalah {a * b}\")\n",
        "print(f\"hasil penjumlahan {a} / {b} adalah {a / b}\")"
      ],
      "metadata": {
        "colab": {
          "base_uri": "https://localhost:8080/"
        },
        "id": "XPZ92G_PCdDj",
        "outputId": "edabd716-d866-4b6b-f86a-448b92e4308e"
      },
      "execution_count": 21,
      "outputs": [
        {
          "output_type": "stream",
          "name": "stdout",
          "text": [
            "masukkan nilai a = 10\n",
            "masukkan nilai b = 3\n",
            "hasil penjumlahan 10 + 3 adalah 13\n",
            "hasil penjumlahan 10 * 3 adalah 30\n",
            "hasil penjumlahan 10 / 3 adalah 3.3333333333333335\n"
          ]
        }
      ]
    },
    {
      "cell_type": "markdown",
      "source": [
        "- Casting Data"
      ],
      "metadata": {
        "id": "jXVzhtCPD53D"
      }
    },
    {
      "cell_type": "code",
      "source": [
        "angka = input(\"masukkan angka = \")\n",
        "\n",
        "print(f\"pangkat 2 dari anka {angka} adalah {int(angka) * int(angka)}\")\n",
        "print(f\"pangkat 3 dari anka {angka} adalah {int(angka) * int(angka) * int(angka)}\")\n",
        "print(f\"bentuk desimal dari {angka} adalah {float(angka)}\")"
      ],
      "metadata": {
        "colab": {
          "base_uri": "https://localhost:8080/"
        },
        "id": "nwSuv6TZD8y1",
        "outputId": "d7d23912-1971-420d-b2fa-11bc93a39093"
      },
      "execution_count": 23,
      "outputs": [
        {
          "output_type": "stream",
          "name": "stdout",
          "text": [
            "masukkan angka = 3\n",
            "pangkat 2 dari anka 3 adalah 9\n",
            "pangkat 3 dari anka 3 adalah 27\n",
            "bentuk desimal dari 3 adalah 3.0\n"
          ]
        }
      ]
    },
    {
      "cell_type": "markdown",
      "source": [
        "- Studi Kasus - Analisis Teks"
      ],
      "metadata": {
        "id": "L42StGYxFa1F"
      }
    },
    {
      "cell_type": "code",
      "source": [
        "kalimat = input(\"masukkan sebuiah kalimat = \")\n",
        "daftar_kata = kalimat.split(\" \")\n",
        "print(\"\")\n",
        "print(f\"jumlah kata = {len(daftar_kata)}\")\n",
        "\n",
        "daftar_kata.sort()\n",
        "\n",
        "kata_terpanjang = \"\"\n",
        "for kata in daftar_kata:\n",
        "  if len(kata) > len(kata_terpanjang):\n",
        "    kata_terpanjang = kata\n",
        "\n",
        "\n",
        "print(f\"jadi kata terpanjang dari kalimat {kalimat} adalah {kata_terpanjang}\")\n",
        "print(f\"daftar kata sesuai urutan abjad = {daftar_kata}\")"
      ],
      "metadata": {
        "colab": {
          "base_uri": "https://localhost:8080/"
        },
        "id": "PLBHto7z5GNP",
        "outputId": "4ca54dc7-c70f-478c-e8e8-71d6cf58dc27"
      },
      "execution_count": 30,
      "outputs": [
        {
          "output_type": "stream",
          "name": "stdout",
          "text": [
            "masukkan sebuiah kalimat = aku suka makan ayam goreng\n",
            "\n",
            "jumlah kata = 5\n",
            "jadi kata terpanjang dari kalimat aku suka makan ayam goreng adalah goreng\n",
            "daftar kata sesuai urutan abjad = ['aku', 'ayam', 'goreng', 'makan', 'suka']\n"
          ]
        }
      ]
    },
    {
      "cell_type": "code",
      "execution_count": null,
      "metadata": {
        "id": "aSA-NTSIQ2AF"
      },
      "outputs": [],
      "source": []
    }
  ]
}