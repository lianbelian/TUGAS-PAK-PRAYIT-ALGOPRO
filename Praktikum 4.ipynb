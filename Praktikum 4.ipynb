{
  "nbformat": 4,
  "nbformat_minor": 0,
  "metadata": {
    "colab": {
      "provenance": [],
      "authorship_tag": "ABX9TyPUYW/nudem3rFUogMikS8d",
      "include_colab_link": true
    },
    "kernelspec": {
      "name": "python3",
      "display_name": "Python 3"
    },
    "language_info": {
      "name": "python"
    }
  },
  "cells": [
    {
      "cell_type": "markdown",
      "metadata": {
        "id": "view-in-github",
        "colab_type": "text"
      },
      "source": [
        "<a href=\"https://colab.research.google.com/github/lianbelian/TUGAS-PAK-PRAYIT-ALGOPRO/blob/main/Praktikum%204.ipynb\" target=\"_parent\"><img src=\"https://colab.research.google.com/assets/colab-badge.svg\" alt=\"Open In Colab\"/></a>"
      ]
    },
    {
      "cell_type": "markdown",
      "source": [
        "For dengan Range"
      ],
      "metadata": {
        "id": "DRFrCCc2BtBe"
      }
    },
    {
      "cell_type": "code",
      "execution_count": 2,
      "metadata": {
        "id": "EHKoP1AE5eqU",
        "colab": {
          "base_uri": "https://localhost:8080/"
        },
        "outputId": "a8d7c8c0-6776-47ad-b796-a6a116c7e1a0"
      },
      "outputs": [
        {
          "output_type": "stream",
          "name": "stdout",
          "text": [
            "1\n",
            "2\n",
            "3\n",
            "4\n",
            "5\n"
          ]
        }
      ],
      "source": [
        "for i in range(1, 6):\n",
        "    print(i)"
      ]
    },
    {
      "cell_type": "markdown",
      "source": [
        "While (Hitung Mundur)"
      ],
      "metadata": {
        "id": "vG0T2bwJB0fN"
      }
    },
    {
      "cell_type": "code",
      "source": [
        "n = int(input(\"masukkan angka= \"))\n",
        "while n > 0:\n",
        "  print(n)\n",
        "  n -= 1"
      ],
      "metadata": {
        "colab": {
          "base_uri": "https://localhost:8080/"
        },
        "id": "iGq1FROTB6mF",
        "outputId": "eb7ec7ec-4793-445a-8866-13c920ce993b"
      },
      "execution_count": 4,
      "outputs": [
        {
          "output_type": "stream",
          "name": "stdout",
          "text": [
            "masukkan angka= 5\n",
            "5\n",
            "4\n",
            "3\n",
            "2\n",
            "1\n"
          ]
        }
      ]
    },
    {
      "cell_type": "markdown",
      "source": [
        "Nested Loop (Segitiga Bintang)\n"
      ],
      "metadata": {
        "id": "Jj7EoJ2GChlN"
      }
    },
    {
      "cell_type": "code",
      "source": [
        "for i in range(1, 6) :\n",
        "      for j in range(i) :\n",
        "        print(\"*\", end=\"\")\n",
        "      print()"
      ],
      "metadata": {
        "colab": {
          "base_uri": "https://localhost:8080/"
        },
        "id": "ovC3NoMlCtjt",
        "outputId": "dfa6f38c-3933-4e72-83d1-e1ffc9b5e340"
      },
      "execution_count": 6,
      "outputs": [
        {
          "output_type": "stream",
          "name": "stdout",
          "text": [
            "*\n",
            "**\n",
            "***\n",
            "****\n",
            "*****\n"
          ]
        }
      ]
    },
    {
      "cell_type": "markdown",
      "source": [
        "Break & Continue"
      ],
      "metadata": {
        "id": "qpDbMxALFSB2"
      }
    },
    {
      "cell_type": "markdown",
      "source": [
        "- Break"
      ],
      "metadata": {
        "id": "b8nAbN7xFoq6"
      }
    },
    {
      "cell_type": "code",
      "source": [
        "for i in range(1, 14) :\n",
        "  print(i)\n",
        "  if i == 10:\n",
        "      print(\"angka 10 ditemukan\")\n",
        "      break"
      ],
      "metadata": {
        "colab": {
          "base_uri": "https://localhost:8080/"
        },
        "id": "yVmn4RFXFrM7",
        "outputId": "020eaca8-be7a-4bae-dd90-62ff4ebdb2a9"
      },
      "execution_count": 11,
      "outputs": [
        {
          "output_type": "stream",
          "name": "stdout",
          "text": [
            "1\n",
            "2\n",
            "3\n",
            "4\n",
            "5\n",
            "6\n",
            "7\n",
            "8\n",
            "9\n",
            "10\n",
            "angka 10 ditemukan\n"
          ]
        }
      ]
    },
    {
      "cell_type": "markdown",
      "source": [
        "- Continue"
      ],
      "metadata": {
        "id": "UKZ6w8hZGmzn"
      }
    },
    {
      "cell_type": "code",
      "source": [
        "for i in range(1, 6):\n",
        "  if i % 2 == 1:\n",
        "    continue\n",
        "  print(i)"
      ],
      "metadata": {
        "colab": {
          "base_uri": "https://localhost:8080/"
        },
        "id": "Jv-ZHqqGGqbY",
        "outputId": "2dd0f9c1-8791-43b5-bd80-cf3ea004f1b4"
      },
      "execution_count": 9,
      "outputs": [
        {
          "output_type": "stream",
          "name": "stdout",
          "text": [
            "2\n",
            "4\n"
          ]
        }
      ]
    },
    {
      "cell_type": "markdown",
      "source": [
        "For pada Dictionary"
      ],
      "metadata": {
        "id": "HsWNr8jFJVtc"
      }
    },
    {
      "cell_type": "code",
      "source": [
        "data = {\"Nama\": \"Andi\", \"Umur\": 20, \"Prodi\": \"TRK\"}\n",
        "\n",
        "for k, v in data.items():\n",
        "  print(k, \":\", v)"
      ],
      "metadata": {
        "colab": {
          "base_uri": "https://localhost:8080/"
        },
        "id": "ZBnc-QBKJZa1",
        "outputId": "b0f28c8a-a24d-4a68-eadc-0dc7f0590719"
      },
      "execution_count": 14,
      "outputs": [
        {
          "output_type": "stream",
          "name": "stdout",
          "text": [
            "Nama : Andi\n",
            "Umur : 20\n",
            "Prodi : TRK\n"
          ]
        }
      ]
    },
    {
      "cell_type": "markdown",
      "source": [
        "For dengan Enumerate\n"
      ],
      "metadata": {
        "id": "v9ArkwttLDVr"
      }
    },
    {
      "cell_type": "code",
      "source": [
        "daftar = [\"Andi\", \"Budi\", \"Cici\"]\n",
        "\n",
        "for i, nama in enumerate(daftar, start=1):\n",
        "    print(i, nama)"
      ],
      "metadata": {
        "colab": {
          "base_uri": "https://localhost:8080/"
        },
        "id": "9WGB47KsLKpL",
        "outputId": "7a8ed45b-ae2b-4759-a80b-b673f0bbf576"
      },
      "execution_count": 17,
      "outputs": [
        {
          "output_type": "stream",
          "name": "stdout",
          "text": [
            "1 Andi\n",
            "2 Budi\n",
            "3 Cici\n"
          ]
        }
      ]
    },
    {
      "cell_type": "markdown",
      "source": [
        "Kasir Multi-Item"
      ],
      "metadata": {
        "id": "s-PQg5uzMGvH"
      }
    },
    {
      "cell_type": "code",
      "source": [
        "total = 0\n",
        "\n",
        "while True:\n",
        "  barang = input(\"masukkan nama barang (ketik 'selesai' untuk berhenti) = \")\n",
        "  if barang.lower() == \"selesai\":\n",
        "    break\n",
        "  harga = float(input(f\"masukkan harga {barang} = \"))\n",
        "  jumlah = int(input(f\"masukkan jumlah {barang} = \"))\n",
        "  subtotal = harga * jumlah\n",
        "  total += subtotal\n",
        "\n",
        "print(\"\\n=======Struk Belanja========\")\n",
        "print(f\"total belanja : Rp {total}\")"
      ],
      "metadata": {
        "colab": {
          "base_uri": "https://localhost:8080/"
        },
        "id": "QEekJ7J7MKlp",
        "outputId": "6f4c197a-c71e-4c44-c14b-56e8f3d01b80"
      },
      "execution_count": 19,
      "outputs": [
        {
          "output_type": "stream",
          "name": "stdout",
          "text": [
            "masukkan nama barang (ketik 'selesai' untuk berhenti) = buku\n",
            "masukkan harga buku = 50000\n",
            "masukkan jumlah buku = 2\n",
            "masukkan nama barang (ketik 'selesai' untuk berhenti) = pulpen\n",
            "masukkan harga pulpen = 5000\n",
            "masukkan jumlah pulpen = 3\n",
            "masukkan nama barang (ketik 'selesai' untuk berhenti) = selesai\n",
            "\n",
            "=======Struk Belanja========\n",
            "total belanja : Rp 115000.0\n"
          ]
        }
      ]
    },
    {
      "cell_type": "markdown",
      "source": [
        "**PENUGASAN**"
      ],
      "metadata": {
        "id": "5uiKxKAXVKq6"
      }
    },
    {
      "cell_type": "markdown",
      "source": [
        "- Menampilkan Deret Angka"
      ],
      "metadata": {
        "id": "BMzpkz4oVN_g"
      }
    },
    {
      "cell_type": "code",
      "source": [
        "for i in range(3, 33, 3):\n",
        "  print(i)"
      ],
      "metadata": {
        "colab": {
          "base_uri": "https://localhost:8080/"
        },
        "id": "4EHpIo1sVS_6",
        "outputId": "f145710e-2745-4d30-adbe-91cdcf58f320"
      },
      "execution_count": 22,
      "outputs": [
        {
          "output_type": "stream",
          "name": "stdout",
          "text": [
            "3\n",
            "6\n",
            "9\n",
            "12\n",
            "15\n",
            "18\n",
            "21\n",
            "24\n",
            "27\n",
            "30\n"
          ]
        }
      ]
    },
    {
      "cell_type": "markdown",
      "source": [
        "- Hitung Faktorial"
      ],
      "metadata": {
        "id": "jMq-9xZjVpnW"
      }
    },
    {
      "cell_type": "code",
      "source": [
        "a = int(input(\"masukkan angka yang ingin yang ingin dicari faktorialnya = \"))\n",
        "faktorial = 1\n",
        "x = 1\n",
        "\n",
        "while x <= a:\n",
        "  faktorial *= x\n",
        "  x += 1\n",
        "print(f\"faktorial dari {a} adalah {faktorial}\")"
      ],
      "metadata": {
        "colab": {
          "base_uri": "https://localhost:8080/"
        },
        "id": "7zLorXDBVw4G",
        "outputId": "3edcdd81-db38-4fe7-8256-954c6fd19377"
      },
      "execution_count": 29,
      "outputs": [
        {
          "output_type": "stream",
          "name": "stdout",
          "text": [
            "masukkan angka yang ingin yang ingin dicari faktorialnya = 5\n",
            "faktorial dari 5 adalah 120\n"
          ]
        }
      ]
    },
    {
      "cell_type": "markdown",
      "source": [
        "- Pola Segitiga Terbalik"
      ],
      "metadata": {
        "id": "9npBKrLXaTTW"
      }
    },
    {
      "cell_type": "code",
      "source": [
        "for i in range(5, 0, -1) :\n",
        "      for j in range(i) :\n",
        "        print(\"*\", end=\"\")\n",
        "      print()"
      ],
      "metadata": {
        "colab": {
          "base_uri": "https://localhost:8080/"
        },
        "id": "zgtErXXsVNPe",
        "outputId": "23964ba5-b3c4-4942-e14a-0cd81fa3872e"
      },
      "execution_count": 30,
      "outputs": [
        {
          "output_type": "stream",
          "name": "stdout",
          "text": [
            "*****\n",
            "****\n",
            "***\n",
            "**\n",
            "*\n"
          ]
        }
      ]
    },
    {
      "cell_type": "markdown",
      "source": [
        "- Cari Bilangan Prima dengan Break"
      ],
      "metadata": {
        "id": "PXszUW6Pap5h"
      }
    },
    {
      "cell_type": "code",
      "source": [
        "bilangan = int(input(\"Masukkan sebuah bilangan: \"))\n",
        "\n",
        "if bilangan > 1:\n",
        "    for i in range(2, bilangan):\n",
        "        if bilangan % i == 0:\n",
        "            print(bilangan, \"bukan bilangan prima (habis dibagi\", i, \")\")\n",
        "            break\n",
        "    else:\n",
        "        print(bilangan, \"adalah bilangan prima\")\n",
        "else:\n",
        "    print(bilangan, \"bukan bilangan prima (harus lebih dari 1)\")\n"
      ],
      "metadata": {
        "colab": {
          "base_uri": "https://localhost:8080/"
        },
        "id": "R9IZ-U3tecr0",
        "outputId": "7514f1b7-f593-442e-e5b2-0176977a78e7"
      },
      "execution_count": 35,
      "outputs": [
        {
          "output_type": "stream",
          "name": "stdout",
          "text": [
            "Masukkan sebuah bilangan: 7\n",
            "7 adalah bilangan prima\n"
          ]
        }
      ]
    },
    {
      "cell_type": "markdown",
      "source": [
        "- Tampilkan Hanya Bilangan Genap dengan Continue"
      ],
      "metadata": {
        "id": "j9CoxpaUf0Op"
      }
    },
    {
      "cell_type": "code",
      "source": [
        "for i in  range(1, 21):\n",
        "  if i % 2 == 1:\n",
        "    continue\n",
        "  print(i)"
      ],
      "metadata": {
        "colab": {
          "base_uri": "https://localhost:8080/"
        },
        "id": "cPpK7SEFf74r",
        "outputId": "4fc9e2df-92e7-4ead-b1c5-5d3b8eee003d"
      },
      "execution_count": 38,
      "outputs": [
        {
          "output_type": "stream",
          "name": "stdout",
          "text": [
            "2\n",
            "4\n",
            "6\n",
            "8\n",
            "10\n",
            "12\n",
            "14\n",
            "16\n",
            "18\n",
            "20\n"
          ]
        }
      ]
    },
    {
      "cell_type": "markdown",
      "source": [
        "- Iterasi Dictionary Mahasiswa"
      ],
      "metadata": {
        "id": "JQT5UNEGhsW1"
      }
    },
    {
      "cell_type": "code",
      "source": [
        "data = {\"Nama\": \"Budi\", \"Umur\": 21, \"Prodi\": \"Teknik Komputer\"}\n",
        "\n",
        "for k, v in data.items():\n",
        "  print(k, \":\", v)"
      ],
      "metadata": {
        "colab": {
          "base_uri": "https://localhost:8080/"
        },
        "id": "sVuKz6hzhywD",
        "outputId": "72389ce3-9308-4f91-d6ab-0d2c8141b1f9"
      },
      "execution_count": 39,
      "outputs": [
        {
          "output_type": "stream",
          "name": "stdout",
          "text": [
            "Nama : Budi\n",
            "Umur : 21\n",
            "Prodi : Teknik Komputer\n"
          ]
        }
      ]
    },
    {
      "cell_type": "markdown",
      "source": [
        "- Enumerate Daftar Barang"
      ],
      "metadata": {
        "id": "jxePd53tiLfF"
      }
    },
    {
      "cell_type": "code",
      "source": [
        "daftar = [\"Buku\", \"Pulpen\", \"Tas\"]\n",
        "\n",
        "for i, nama in enumerate(daftar, start=1):\n",
        "    print(i, nama)"
      ],
      "metadata": {
        "colab": {
          "base_uri": "https://localhost:8080/"
        },
        "id": "VrJGrQnKiQ-0",
        "outputId": "ca5191e0-8cc0-4bf2-941c-09d75c8a9b62"
      },
      "execution_count": 40,
      "outputs": [
        {
          "output_type": "stream",
          "name": "stdout",
          "text": [
            "1 Buku\n",
            "2 Pulpen\n",
            "3 Tas\n"
          ]
        }
      ]
    },
    {
      "cell_type": "markdown",
      "source": [
        "- Studi Kasus - Kasir Diskon"
      ],
      "metadata": {
        "id": "MT78OXQCiuqT"
      }
    },
    {
      "cell_type": "code",
      "source": [
        "total = 0\n",
        "\n",
        "while True:\n",
        "  barang = input(\"masukkan nama barang (ketik 'selesai' untuk berhenti) = \")\n",
        "  if barang.lower() == \"selesai\":\n",
        "    break\n",
        "  harga = float(input(f\"masukkan harga {barang} = \"))\n",
        "  jumlah = int(input(f\"masukkan jumlah {barang} = \"))\n",
        "  subtotal = harga * jumlah\n",
        "  total += subtotal\n",
        "  if total >= 200000:\n",
        "    diskon = total * 0.1\n",
        "  else:\n",
        "    diskon = 0\n",
        "  total_diskon = total - diskon\n",
        "\n",
        "print(\"\\n=======Struk Belanja========\")\n",
        "print(f\"total belanja : Rp {total_diskon}\")\n",
        "print(f\"anda mendapatkan diskon sebesar Rp {diskon}\")"
      ],
      "metadata": {
        "colab": {
          "base_uri": "https://localhost:8080/"
        },
        "id": "NmrERCJeivz1",
        "outputId": "6e979fe2-392d-4c31-d861-1e6dfa6e2921"
      },
      "execution_count": 43,
      "outputs": [
        {
          "output_type": "stream",
          "name": "stdout",
          "text": [
            "masukkan nama barang (ketik 'selesai' untuk berhenti) = minyak\n",
            "masukkan harga minyak = 30000\n",
            "masukkan jumlah minyak = 4\n",
            "masukkan nama barang (ketik 'selesai' untuk berhenti) = tepung\n",
            "masukkan harga tepung = 15000\n",
            "masukkan jumlah tepung = 10\n",
            "masukkan nama barang (ketik 'selesai' untuk berhenti) = mentega\n",
            "masukkan harga mentega = 10000\n",
            "masukkan jumlah mentega = 5\n",
            "masukkan nama barang (ketik 'selesai' untuk berhenti) = selesai\n",
            "\n",
            "=======Struk Belanja========\n",
            "total belanja : Rp 288000.0\n",
            "anda mendapatkan diskon sebesar Rp 32000.0\n"
          ]
        }
      ]
    },
    {
      "cell_type": "code",
      "source": [],
      "metadata": {
        "id": "L0JI2neBBVYv"
      },
      "execution_count": null,
      "outputs": []
    },
    {
      "cell_type": "code",
      "source": [],
      "metadata": {
        "id": "kru37XBGiszo"
      },
      "execution_count": null,
      "outputs": []
    },
    {
      "cell_type": "markdown",
      "source": [],
      "metadata": {
        "id": "sDjsrHIpBzd9"
      }
    }
  ]
}