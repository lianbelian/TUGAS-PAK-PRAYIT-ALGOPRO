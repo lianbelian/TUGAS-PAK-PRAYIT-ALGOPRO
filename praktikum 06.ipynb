{
  "nbformat": 4,
  "nbformat_minor": 0,
  "metadata": {
    "colab": {
      "provenance": [],
      "authorship_tag": "ABX9TyOTsjKkc5yK3t+Y5IWosqSp",
      "include_colab_link": true
    },
    "kernelspec": {
      "name": "python3",
      "display_name": "Python 3"
    },
    "language_info": {
      "name": "python"
    }
  },
  "cells": [
    {
      "cell_type": "markdown",
      "metadata": {
        "id": "view-in-github",
        "colab_type": "text"
      },
      "source": [
        "<a href=\"https://colab.research.google.com/github/lianbelian/TUGAS-PAK-PRAYIT-ALGOPRO/blob/main/praktikum%2006.ipynb\" target=\"_parent\"><img src=\"https://colab.research.google.com/assets/colab-badge.svg\" alt=\"Open In Colab\"/></a>"
      ]
    },
    {
      "cell_type": "markdown",
      "source": [
        "Praktikum 01 - Membuat dan Mengakses List 1D\n",
        "\n"
      ],
      "metadata": {
        "id": "U8T-ywg09RqB"
      }
    },
    {
      "cell_type": "code",
      "execution_count": null,
      "metadata": {
        "id": "qyGeLRgZzd7J",
        "colab": {
          "base_uri": "https://localhost:8080/"
        },
        "outputId": "e4b4b5bb-12cc-44bb-ad03-e5eb2185e846"
      },
      "outputs": [
        {
          "output_type": "stream",
          "name": "stdout",
          "text": [
            "andi\n",
            "budi\n",
            "cici\n",
            "cici\n"
          ]
        }
      ],
      "source": [
        "mahasiswa = [\"andi\", \"budi\", \"cici\"]\n",
        "print(mahasiswa[0])\n",
        "print(mahasiswa[1])\n",
        "print(mahasiswa[2])\n",
        "print(mahasiswa[-1])"
      ]
    },
    {
      "cell_type": "markdown",
      "source": [
        "Praktikum 02 - Update dan Operasi Dasar List"
      ],
      "metadata": {
        "id": "bT7t7ZLf9xtc"
      }
    },
    {
      "cell_type": "code",
      "source": [
        "nilai = [85, 90, 78]\n",
        "nilai[1] = 95\n",
        "nilai.append(100)\n",
        "nilai.remove(78)\n",
        "print(nilai)"
      ],
      "metadata": {
        "id": "DreuAOxM91wc",
        "outputId": "1f44c566-5a2f-4401-ca66-4730f9466d21",
        "colab": {
          "base_uri": "https://localhost:8080/"
        }
      },
      "execution_count": null,
      "outputs": [
        {
          "output_type": "stream",
          "name": "stdout",
          "text": [
            "[85, 95, 100]\n"
          ]
        }
      ]
    },
    {
      "cell_type": "markdown",
      "source": [
        "Praktikum 03 – Slicing List"
      ],
      "metadata": {
        "id": "ZOx280m7-4bj"
      }
    },
    {
      "cell_type": "code",
      "source": [
        "nilai = [85, 90, 78, 92, 88]\n",
        "print(nilai[0:3])\n",
        "print(nilai[2:])\n",
        "print(nilai[:3])"
      ],
      "metadata": {
        "id": "v1rxRRpW-9UC",
        "outputId": "f9bc532d-5a42-4bb9-f74e-126da055b169",
        "colab": {
          "base_uri": "https://localhost:8080/"
        }
      },
      "execution_count": null,
      "outputs": [
        {
          "output_type": "stream",
          "name": "stdout",
          "text": [
            "[85, 90, 78]\n",
            "[78, 92, 88]\n",
            "[85, 90, 78]\n"
          ]
        }
      ]
    },
    {
      "cell_type": "markdown",
      "source": [
        "Praktikum 04 – List 2D (Matriks)"
      ],
      "metadata": {
        "id": "7_UJGOxPuxpv"
      }
    },
    {
      "cell_type": "code",
      "source": [
        "matriks = [\n",
        "    [1, 2, 3],\n",
        "    [4, 5, 6],\n",
        "    [7, 8, 9]\n",
        "]\n",
        "\n",
        "print(matriks[0][2])\n",
        "print(matriks[1][0])\n",
        "print(matriks[2])"
      ],
      "metadata": {
        "colab": {
          "base_uri": "https://localhost:8080/"
        },
        "id": "9d3k91wguzuo",
        "outputId": "18a739a9-8472-4b66-c4ba-bcf5086505c6"
      },
      "execution_count": null,
      "outputs": [
        {
          "output_type": "stream",
          "name": "stdout",
          "text": [
            "3\n",
            "4\n",
            "[7, 8, 9]\n"
          ]
        }
      ]
    },
    {
      "cell_type": "markdown",
      "source": [
        "Praktikum 05 – Operasi pada List 2D"
      ],
      "metadata": {
        "id": "_Q-HmyhcxTWX"
      }
    },
    {
      "cell_type": "code",
      "source": [
        "a = [[1, 2, 3], [4, 5, 6]]\n",
        "b = [[7, 8, 9], [10, 11, 12]]\n",
        "c = []\n",
        "\n",
        "for i in range(len(a[0])) :\n",
        "    baris = []\n",
        "    for j in range(len(a[0])) :\n",
        "        baris.append(a[i][j] + b[i][j])\n",
        "    c.append(baris)\n",
        "print(c)"
      ],
      "metadata": {
        "colab": {
          "base_uri": "https://localhost:8080/"
        },
        "id": "jNgccXHUxUND",
        "outputId": "346d34c0-d337-4535-9790-f82a03e98c94"
      },
      "execution_count": null,
      "outputs": [
        {
          "output_type": "stream",
          "name": "stdout",
          "text": [
            "[[8, 10, 12], [14, 16, 18]]\n"
          ]
        }
      ]
    },
    {
      "cell_type": "markdown",
      "source": [
        "Praktikum 06 – Studi Kasus: Pengelolaan Nilai Mahasiswa"
      ],
      "metadata": {
        "id": "FQYaza5R8uwC"
      }
    },
    {
      "cell_type": "code",
      "source": [
        "nilai = [\n",
        "    [80, 90, 85],\n",
        "    [70, 75, 80],\n",
        "    [88, 92, 84]\n",
        "    ]\n",
        "for i, baris in enumerate (nilai, start=1):\n",
        "  rata = sum(baris) / len(baris)\n",
        "  print(f\"Rata-rata nilai mahasiswa {i} adalah {rata:.2f}\")"
      ],
      "metadata": {
        "id": "_cZ0uir68vgO",
        "outputId": "9f969772-9030-4135-97b4-68ba0b76cd6e",
        "colab": {
          "base_uri": "https://localhost:8080/"
        }
      },
      "execution_count": null,
      "outputs": [
        {
          "output_type": "stream",
          "name": "stdout",
          "text": [
            "Rata-rata nilai mahasiswa 1 adalah 85.00\n",
            "Rata-rata nilai mahasiswa 2 adalah 75.00\n",
            "Rata-rata nilai mahasiswa 3 adalah 88.00\n"
          ]
        }
      ]
    },
    {
      "cell_type": "markdown",
      "source": [
        "**PENUGASAN**"
      ],
      "metadata": {
        "id": "_jiREoTUPJ7V"
      }
    },
    {
      "cell_type": "markdown",
      "source": [
        "- Akses Elemen List"
      ],
      "metadata": {
        "id": "-W7TMDPTPQrZ"
      }
    },
    {
      "cell_type": "code",
      "source": [
        "mahasiswa = [\"AGUNG\", \"SINTA\", \"ARNOLD\", \"SETYO\", \"ZALFA\"]\n",
        "print(mahasiswa[0])\n",
        "print(mahasiswa[-1])\n",
        "print(mahasiswa[1])"
      ],
      "metadata": {
        "id": "ufNL5z_sPUTa",
        "outputId": "a96ccdd1-f640-4c4e-86c4-0e11f588b130",
        "colab": {
          "base_uri": "https://localhost:8080/"
        }
      },
      "execution_count": 1,
      "outputs": [
        {
          "output_type": "stream",
          "name": "stdout",
          "text": [
            "AGUNG\n",
            "ZALFA\n",
            "SINTA\n"
          ]
        }
      ]
    },
    {
      "cell_type": "markdown",
      "source": [
        "- Operasi Dasar List"
      ],
      "metadata": {
        "id": "7TV48cU-QR_L"
      }
    },
    {
      "cell_type": "code",
      "source": [
        "NILAI = [70, 75, 80]\n",
        "NILAI[2] = 85\n",
        "NILAI.append(90)\n",
        "NILAI.remove(70)\n",
        "print(NILAI)"
      ],
      "metadata": {
        "id": "jJuAXbddQTsf",
        "outputId": "fc81d9a8-389b-4c9e-96cc-27a657534b90",
        "colab": {
          "base_uri": "https://localhost:8080/"
        }
      },
      "execution_count": 4,
      "outputs": [
        {
          "output_type": "stream",
          "name": "stdout",
          "text": [
            "[75, 85, 90]\n"
          ]
        }
      ]
    },
    {
      "cell_type": "markdown",
      "source": [
        "- Slicing List"
      ],
      "metadata": {
        "id": "-5o6zyZbROAf"
      }
    },
    {
      "cell_type": "code",
      "source": [
        "ANGKA = [1, 2, 3, 4, 5, 6, 7, 8, 9, 10]\n",
        "print(ANGKA[0:3])\n",
        "print(ANGKA[6:])\n",
        "\n",
        "GENAP = [i for i in ANGKA if i % 2 == 0]\n",
        "print(GENAP)"
      ],
      "metadata": {
        "id": "C9q4qizKRQlw",
        "outputId": "2d33da3a-eff7-48e9-cd54-ab67c5a52a60",
        "colab": {
          "base_uri": "https://localhost:8080/"
        }
      },
      "execution_count": 6,
      "outputs": [
        {
          "output_type": "stream",
          "name": "stdout",
          "text": [
            "[1, 2, 3]\n",
            "[7, 8, 9, 10]\n",
            "[2, 4, 6, 8, 10]\n"
          ]
        }
      ]
    },
    {
      "cell_type": "code",
      "source": [],
      "metadata": {
        "id": "sLc6meWP9Lmm"
      },
      "execution_count": null,
      "outputs": []
    }
  ]
}