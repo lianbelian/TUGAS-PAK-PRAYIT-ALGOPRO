{
  "nbformat": 4,
  "nbformat_minor": 0,
  "metadata": {
    "colab": {
      "provenance": [],
      "authorship_tag": "ABX9TyMze942ErTrhZhqJc/EfZKI",
      "include_colab_link": true
    },
    "kernelspec": {
      "name": "python3",
      "display_name": "Python 3"
    },
    "language_info": {
      "name": "python"
    }
  },
  "cells": [
    {
      "cell_type": "markdown",
      "metadata": {
        "id": "view-in-github",
        "colab_type": "text"
      },
      "source": [
        "<a href=\"https://colab.research.google.com/github/lianbelian/TUGAS-PAK-PRAYIT-ALGOPRO/blob/main/praktikum%2006.ipynb\" target=\"_parent\"><img src=\"https://colab.research.google.com/assets/colab-badge.svg\" alt=\"Open In Colab\"/></a>"
      ]
    },
    {
      "cell_type": "markdown",
      "source": [
        "Praktikum 01 - Membuat dan Mengakses List 1D\n",
        "\n"
      ],
      "metadata": {
        "id": "U8T-ywg09RqB"
      }
    },
    {
      "cell_type": "code",
      "execution_count": 1,
      "metadata": {
        "id": "qyGeLRgZzd7J",
        "colab": {
          "base_uri": "https://localhost:8080/"
        },
        "outputId": "e4b4b5bb-12cc-44bb-ad03-e5eb2185e846"
      },
      "outputs": [
        {
          "output_type": "stream",
          "name": "stdout",
          "text": [
            "andi\n",
            "budi\n",
            "cici\n",
            "cici\n"
          ]
        }
      ],
      "source": [
        "mahasiswa = [\"andi\", \"budi\", \"cici\"]\n",
        "print(mahasiswa[0])\n",
        "print(mahasiswa[1])\n",
        "print(mahasiswa[2])\n",
        "print(mahasiswa[-1])"
      ]
    },
    {
      "cell_type": "markdown",
      "source": [
        "Praktikum 02 - Update dan Operasi Dasar List"
      ],
      "metadata": {
        "id": "bT7t7ZLf9xtc"
      }
    },
    {
      "cell_type": "code",
      "source": [
        "nilai = [85, 90, 78]\n",
        "nilai[1] = 95\n",
        "nilai.append(100)\n",
        "nilai.remove(78)\n",
        "print(nilai)"
      ],
      "metadata": {
        "id": "DreuAOxM91wc",
        "outputId": "1f44c566-5a2f-4401-ca66-4730f9466d21",
        "colab": {
          "base_uri": "https://localhost:8080/"
        }
      },
      "execution_count": 4,
      "outputs": [
        {
          "output_type": "stream",
          "name": "stdout",
          "text": [
            "[85, 95, 100]\n"
          ]
        }
      ]
    },
    {
      "cell_type": "markdown",
      "source": [
        "Praktikum 03 – Slicing List"
      ],
      "metadata": {
        "id": "ZOx280m7-4bj"
      }
    },
    {
      "cell_type": "code",
      "source": [
        "nilai = [85, 90, 78, 92, 88]\n",
        "print(nilai[0:3])\n",
        "print(nilai[2:])\n",
        "print(nilai[:3])"
      ],
      "metadata": {
        "id": "v1rxRRpW-9UC",
        "outputId": "f9bc532d-5a42-4bb9-f74e-126da055b169",
        "colab": {
          "base_uri": "https://localhost:8080/"
        }
      },
      "execution_count": 5,
      "outputs": [
        {
          "output_type": "stream",
          "name": "stdout",
          "text": [
            "[85, 90, 78]\n",
            "[78, 92, 88]\n",
            "[85, 90, 78]\n"
          ]
        }
      ]
    },
    {
      "cell_type": "code",
      "source": [],
      "metadata": {
        "id": "sLc6meWP9Lmm"
      },
      "execution_count": null,
      "outputs": []
    }
  ]
}